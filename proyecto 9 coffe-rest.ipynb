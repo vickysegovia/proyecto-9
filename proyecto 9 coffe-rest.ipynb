{
 "cells": [
  {
   "cell_type": "markdown",
   "metadata": {},
   "source": [
    "1. [Descrición del proyecto](#ddp)\n",
    "2. [Inicialización](#in)\n",
    "3. [Preparación de datos](#pdd)\n",
    "    - 3.1 [Carga del set de datos](#cdsdd)\n",
    "    - 3.2 [Preprocesamientos de datos](#predd)\n",
    "    - 3.3 [Nombres de cadenas comerciales](#ndcc)\n",
    "    - 3.4 [Separar las calles de la direccion](#slcdld)\n",
    "    \n",
    "4. [Analisís de datos](#add)\n",
    "    - 4.1 [Proporciones de los distintos tipos de establecimientos](#pdldtde)\n",
    "    - 4.2 [Proporciones de los distintos tipos de establecimintos que pertenecen a una cadena](#pdldtdeqpauc)\n",
    "    - 4.3 [Tipos de establecimientos que es habitualmente una cadena](#tdeqehuc)\n",
    "    - 4.4 [Promedio de asientos para cada tipo de establecimientos](#pdapctde)\n",
    "    - 4.5 [Diez mejores calles por número de establecimientos](#dmcpnde)\n",
    "    - 4.6 [Calles que tienen un solo establacimiento](#cqtuse)\n",
    "    - 4.7 [Distribución del número de asientos para las calles con muchos establecimientos](#ddndaplccme)\n",
    "    - 4.8 [Las cafeterias en las diez calles con mas establecimientos](#lceldccme)\n",
    "5. [Conclusión](#ccs)\n",
    "6. [Link de presentacion](#link)\n",
    "   "
   ]
  },
  {
   "cell_type": "markdown",
   "metadata": {},
   "source": [
    "## Descripón del proyecto.<a id='ddp'></a>"
   ]
  },
  {
   "cell_type": "markdown",
   "metadata": {},
   "source": [
    "En este proyecto evaluaremos un estudio de mercado para un nuevo emprendimiento un café atendido por robots en Los Angeles, y siendo un empredimiento muy prometedor necesitamos saber si el nuevo café podra ser capaz de mantener un exito cuando la novedad de los camareros robots desaparezca.\n",
    "Necesitamos atraer inversionistas para este nuevo empredimiento asi que procederemos con un exhaustivo analisís con los datos que obtuvimos de fuentes abiertas sobre los restaurantes en Los Angeles."
   ]
  },
  {
   "cell_type": "markdown",
   "metadata": {},
   "source": [
    "## Inicialización.<a id='in'></a>"
   ]
  },
  {
   "cell_type": "markdown",
   "metadata": {},
   "source": [
    "Vamos a cargar las librerias que vamos a utilizar."
   ]
  },
  {
   "cell_type": "code",
   "execution_count": 1,
   "metadata": {},
   "outputs": [
    {
     "name": "stdout",
     "output_type": "stream",
     "text": [
      "Collecting usaddress\n",
      "  Downloading usaddress-0.5.10-py2.py3-none-any.whl (63 kB)\n",
      "\u001b[K     |████████████████████████████████| 63 kB 3.7 MB/s  eta 0:00:01\n",
      "\u001b[?25hCollecting future>=0.14\n",
      "  Downloading future-0.18.3.tar.gz (840 kB)\n",
      "\u001b[K     |████████████████████████████████| 840 kB 33.6 MB/s eta 0:00:01\n",
      "\u001b[?25hCollecting python-crfsuite>=0.7\n",
      "  Downloading python_crfsuite-0.9.9-cp39-cp39-manylinux_2_17_x86_64.manylinux2014_x86_64.whl (1.0 MB)\n",
      "\u001b[K     |████████████████████████████████| 1.0 MB 60.3 MB/s eta 0:00:01\n",
      "\u001b[?25hCollecting probableparsing\n",
      "  Downloading probableparsing-0.0.1-py2.py3-none-any.whl (3.1 kB)\n",
      "Building wheels for collected packages: future\n",
      "  Building wheel for future (setup.py) ... \u001b[?25ldone\n",
      "\u001b[?25h  Created wheel for future: filename=future-0.18.3-py3-none-any.whl size=492026 sha256=fa1fcabab84c9a3cfca97611202e8f996a5eb125ac25e5c64a7961d4a3488c80\n",
      "  Stored in directory: /home/jovyan/.cache/pip/wheels/bf/5d/6a/2e53874f7ec4e2bede522385439531fafec8fafe005b5c3d1b\n",
      "Successfully built future\n",
      "Installing collected packages: python-crfsuite, probableparsing, future, usaddress\n",
      "Successfully installed future-0.18.3 probableparsing-0.0.1 python-crfsuite-0.9.9 usaddress-0.5.10\n"
     ]
    }
   ],
   "source": [
    "!pip install usaddress"
   ]
  },
  {
   "cell_type": "code",
   "execution_count": 2,
   "metadata": {},
   "outputs": [],
   "source": [
    "# Cargaremos las librerias necesarias.\n",
    "import pandas as pd\n",
    "import numpy as np\n",
    "import matplotlib.pyplot as plt\n",
    "import seaborn as sns\n",
    "from usaddress import STREET_NAMES, DIRECTIONS\n",
    "import usaddress\n",
    "import re\n",
    "import difflib\n",
    "\n",
    "sns.set_palette(palette='tab10')"
   ]
  },
  {
   "cell_type": "markdown",
   "metadata": {},
   "source": [
    "## Preparacón de datos. <a id='pdd'></a>"
   ]
  },
  {
   "cell_type": "markdown",
   "metadata": {},
   "source": [
    "### Carga del set de datos. <a id='cdsdd'></a>"
   ]
  },
  {
   "cell_type": "code",
   "execution_count": 3,
   "metadata": {},
   "outputs": [],
   "source": [
    "# descargaremos los datos, asegurando que las columnas esten con el tipo correcto.\n",
    "rest_data = pd.read_csv('/datasets/rest_data_us.csv', dtype={'chain':'boolean', 'object_type':'category'})"
   ]
  },
  {
   "cell_type": "code",
   "execution_count": 4,
   "metadata": {},
   "outputs": [
    {
     "name": "stdout",
     "output_type": "stream",
     "text": [
      "<class 'pandas.core.frame.DataFrame'>\n",
      "RangeIndex: 9651 entries, 0 to 9650\n",
      "Data columns (total 6 columns):\n",
      " #   Column       Non-Null Count  Dtype   \n",
      "---  ------       --------------  -----   \n",
      " 0   id           9651 non-null   int64   \n",
      " 1   object_name  9651 non-null   object  \n",
      " 2   address      9651 non-null   object  \n",
      " 3   chain        9648 non-null   boolean \n",
      " 4   object_type  9651 non-null   category\n",
      " 5   number       9651 non-null   int64   \n",
      "dtypes: boolean(1), category(1), int64(2), object(2)\n",
      "memory usage: 330.2+ KB\n",
      "\n",
      "Datos duplicados: 0\n"
     ]
    }
   ],
   "source": [
    "# Veamos la información de los datos, y si existen datos duplicados.\n",
    "rest_data.info()\n",
    "print()\n",
    "print(f'Datos duplicados: {rest_data.duplicated().sum()}')"
   ]
  },
  {
   "cell_type": "code",
   "execution_count": 5,
   "metadata": {},
   "outputs": [
    {
     "data": {
      "text/html": [
       "<div>\n",
       "<style scoped>\n",
       "    .dataframe tbody tr th:only-of-type {\n",
       "        vertical-align: middle;\n",
       "    }\n",
       "\n",
       "    .dataframe tbody tr th {\n",
       "        vertical-align: top;\n",
       "    }\n",
       "\n",
       "    .dataframe thead th {\n",
       "        text-align: right;\n",
       "    }\n",
       "</style>\n",
       "<table border=\"1\" class=\"dataframe\">\n",
       "  <thead>\n",
       "    <tr style=\"text-align: right;\">\n",
       "      <th></th>\n",
       "      <th>id</th>\n",
       "      <th>object_name</th>\n",
       "      <th>address</th>\n",
       "      <th>chain</th>\n",
       "      <th>object_type</th>\n",
       "      <th>number</th>\n",
       "    </tr>\n",
       "  </thead>\n",
       "  <tbody>\n",
       "    <tr>\n",
       "      <th>0</th>\n",
       "      <td>11786</td>\n",
       "      <td>HABITAT COFFEE SHOP</td>\n",
       "      <td>3708 N EAGLE ROCK BLVD</td>\n",
       "      <td>False</td>\n",
       "      <td>Cafe</td>\n",
       "      <td>26</td>\n",
       "    </tr>\n",
       "    <tr>\n",
       "      <th>1</th>\n",
       "      <td>11787</td>\n",
       "      <td>REILLY'S</td>\n",
       "      <td>100 WORLD WAY # 120</td>\n",
       "      <td>False</td>\n",
       "      <td>Restaurant</td>\n",
       "      <td>9</td>\n",
       "    </tr>\n",
       "    <tr>\n",
       "      <th>2</th>\n",
       "      <td>11788</td>\n",
       "      <td>STREET CHURROS</td>\n",
       "      <td>6801 HOLLYWOOD BLVD # 253</td>\n",
       "      <td>False</td>\n",
       "      <td>Fast Food</td>\n",
       "      <td>20</td>\n",
       "    </tr>\n",
       "    <tr>\n",
       "      <th>3</th>\n",
       "      <td>11789</td>\n",
       "      <td>TRINITI ECHO PARK</td>\n",
       "      <td>1814 W SUNSET BLVD</td>\n",
       "      <td>False</td>\n",
       "      <td>Restaurant</td>\n",
       "      <td>22</td>\n",
       "    </tr>\n",
       "    <tr>\n",
       "      <th>4</th>\n",
       "      <td>11790</td>\n",
       "      <td>POLLEN</td>\n",
       "      <td>2100 ECHO PARK AVE</td>\n",
       "      <td>False</td>\n",
       "      <td>Restaurant</td>\n",
       "      <td>20</td>\n",
       "    </tr>\n",
       "  </tbody>\n",
       "</table>\n",
       "</div>"
      ],
      "text/plain": [
       "      id          object_name                    address  chain object_type  \\\n",
       "0  11786  HABITAT COFFEE SHOP     3708 N EAGLE ROCK BLVD  False        Cafe   \n",
       "1  11787             REILLY'S        100 WORLD WAY # 120  False  Restaurant   \n",
       "2  11788       STREET CHURROS  6801 HOLLYWOOD BLVD # 253  False   Fast Food   \n",
       "3  11789    TRINITI ECHO PARK         1814 W SUNSET BLVD  False  Restaurant   \n",
       "4  11790               POLLEN         2100 ECHO PARK AVE  False  Restaurant   \n",
       "\n",
       "   number  \n",
       "0      26  \n",
       "1       9  \n",
       "2      20  \n",
       "3      22  \n",
       "4      20  "
      ]
     },
     "execution_count": 5,
     "metadata": {},
     "output_type": "execute_result"
    }
   ],
   "source": [
    "# veamos una información general.\n",
    "rest_data.head()"
   ]
  },
  {
   "cell_type": "markdown",
   "metadata": {},
   "source": [
    "La tabla de datos contiene la siguiente información.\n",
    "- `id:` - Identificador.\n",
    "- `objct_name:` - Nombre del establecimiento.\n",
    "- `chain:` - Establecimiento que pertenece a una cadena .\n",
    "- `object_type:` - Tipo de establecimiento.\n",
    "- `address:` - Direccion.\n",
    "- `number:` - Número de asientos."
   ]
  },
  {
   "cell_type": "markdown",
   "metadata": {},
   "source": [
    "- Logramos identificar que nuesta tabla consta de 6 columnas y 9651 filas.\n",
    "- Nuestra tabla contiene 3 valores ausentes en la columna chain y no tiene valores duplicados.\n",
    "- Los tipos de la columnas estan en orden."
   ]
  },
  {
   "cell_type": "markdown",
   "metadata": {},
   "source": [
    "### Preprocesamientos de datos.<a id='predd'></a>"
   ]
  },
  {
   "cell_type": "code",
   "execution_count": 6,
   "metadata": {},
   "outputs": [],
   "source": [
    "# nos aseguramos que el contendido del dataframe este en mayúsculas para homogeneizar el contenido\n",
    "rest_data['object_name'] = rest_data['object_name'].str.upper()\n",
    "rest_data['address'] = rest_data['address'].str.upper()\n",
    "rest_data['object_type'] = rest_data['object_type'].str.upper()"
   ]
  },
  {
   "cell_type": "code",
   "execution_count": 7,
   "metadata": {},
   "outputs": [
    {
     "data": {
      "text/plain": [
       "id             0\n",
       "object_name    0\n",
       "address        0\n",
       "chain          3\n",
       "object_type    0\n",
       "number         0\n",
       "dtype: int64"
      ]
     },
     "execution_count": 7,
     "metadata": {},
     "output_type": "execute_result"
    }
   ],
   "source": [
    "# revisemos los valores ausentes.\n",
    "rest_data.isna().sum()"
   ]
  },
  {
   "cell_type": "code",
   "execution_count": 8,
   "metadata": {},
   "outputs": [
    {
     "data": {
      "text/plain": [
       "7408    TAQUERIA LOS 3 CARNALES\n",
       "7523       JAMMIN JIMMY'S PIZZA\n",
       "8648      THE LEXINGTON THEATER\n",
       "Name: object_name, dtype: object"
      ]
     },
     "execution_count": 8,
     "metadata": {},
     "output_type": "execute_result"
    }
   ],
   "source": [
    "# buscaremos los valores nulos.\n",
    "isna_list_chain = rest_data[rest_data['chain'].isna()]['object_name']\n",
    "isna_list_chain"
   ]
  },
  {
   "cell_type": "code",
   "execution_count": 9,
   "metadata": {},
   "outputs": [
    {
     "data": {
      "text/html": [
       "<div>\n",
       "<style scoped>\n",
       "    .dataframe tbody tr th:only-of-type {\n",
       "        vertical-align: middle;\n",
       "    }\n",
       "\n",
       "    .dataframe tbody tr th {\n",
       "        vertical-align: top;\n",
       "    }\n",
       "\n",
       "    .dataframe thead th {\n",
       "        text-align: right;\n",
       "    }\n",
       "</style>\n",
       "<table border=\"1\" class=\"dataframe\">\n",
       "  <thead>\n",
       "    <tr style=\"text-align: right;\">\n",
       "      <th></th>\n",
       "      <th>id</th>\n",
       "      <th>object_name</th>\n",
       "      <th>address</th>\n",
       "      <th>chain</th>\n",
       "      <th>object_type</th>\n",
       "      <th>number</th>\n",
       "    </tr>\n",
       "  </thead>\n",
       "  <tbody>\n",
       "    <tr>\n",
       "      <th>7408</th>\n",
       "      <td>19194</td>\n",
       "      <td>TAQUERIA LOS 3 CARNALES</td>\n",
       "      <td>5000 E WHITTIER BLVD</td>\n",
       "      <td>&lt;NA&gt;</td>\n",
       "      <td>RESTAURANT</td>\n",
       "      <td>14</td>\n",
       "    </tr>\n",
       "    <tr>\n",
       "      <th>7523</th>\n",
       "      <td>19309</td>\n",
       "      <td>JAMMIN JIMMY'S PIZZA</td>\n",
       "      <td>1641 FIRESTONE BLVD</td>\n",
       "      <td>&lt;NA&gt;</td>\n",
       "      <td>PIZZA</td>\n",
       "      <td>1</td>\n",
       "    </tr>\n",
       "    <tr>\n",
       "      <th>8648</th>\n",
       "      <td>20434</td>\n",
       "      <td>THE LEXINGTON THEATER</td>\n",
       "      <td>129 E 3RD ST</td>\n",
       "      <td>&lt;NA&gt;</td>\n",
       "      <td>RESTAURANT</td>\n",
       "      <td>35</td>\n",
       "    </tr>\n",
       "  </tbody>\n",
       "</table>\n",
       "</div>"
      ],
      "text/plain": [
       "         id              object_name               address  chain object_type  \\\n",
       "7408  19194  TAQUERIA LOS 3 CARNALES  5000 E WHITTIER BLVD   <NA>  RESTAURANT   \n",
       "7523  19309     JAMMIN JIMMY'S PIZZA   1641 FIRESTONE BLVD   <NA>       PIZZA   \n",
       "8648  20434    THE LEXINGTON THEATER          129 E 3RD ST   <NA>  RESTAURANT   \n",
       "\n",
       "      number  \n",
       "7408      14  \n",
       "7523       1  \n",
       "8648      35  "
      ]
     },
     "execution_count": 9,
     "metadata": {},
     "output_type": "execute_result"
    }
   ],
   "source": [
    "# creamos el dataframe con los nombres de establecimientos en la lista creada anteriormente\n",
    "rest_data[rest_data['object_name'].isin(isna_list_chain)]"
   ]
  },
  {
   "cell_type": "code",
   "execution_count": 10,
   "metadata": {},
   "outputs": [
    {
     "data": {
      "text/html": [
       "<div>\n",
       "<style scoped>\n",
       "    .dataframe tbody tr th:only-of-type {\n",
       "        vertical-align: middle;\n",
       "    }\n",
       "\n",
       "    .dataframe tbody tr th {\n",
       "        vertical-align: top;\n",
       "    }\n",
       "\n",
       "    .dataframe thead th {\n",
       "        text-align: right;\n",
       "    }\n",
       "</style>\n",
       "<table border=\"1\" class=\"dataframe\">\n",
       "  <thead>\n",
       "    <tr style=\"text-align: right;\">\n",
       "      <th></th>\n",
       "      <th>id</th>\n",
       "      <th>object_name</th>\n",
       "      <th>address</th>\n",
       "      <th>chain</th>\n",
       "      <th>object_type</th>\n",
       "      <th>number</th>\n",
       "    </tr>\n",
       "  </thead>\n",
       "  <tbody>\n",
       "    <tr>\n",
       "      <th>6419</th>\n",
       "      <td>18205</td>\n",
       "      <td>TACOS LOS CARNALES</td>\n",
       "      <td>4370 S CENTRAL AVE</td>\n",
       "      <td>False</td>\n",
       "      <td>FAST FOOD</td>\n",
       "      <td>47</td>\n",
       "    </tr>\n",
       "    <tr>\n",
       "      <th>6624</th>\n",
       "      <td>18410</td>\n",
       "      <td>TACOS LOS 3 CARNALES</td>\n",
       "      <td>5000 WHITTIER BLVD</td>\n",
       "      <td>False</td>\n",
       "      <td>FAST FOOD</td>\n",
       "      <td>6</td>\n",
       "    </tr>\n",
       "    <tr>\n",
       "      <th>6790</th>\n",
       "      <td>18576</td>\n",
       "      <td>WI JAMMIN CAFE</td>\n",
       "      <td>1359 S REDONDO BLVD</td>\n",
       "      <td>False</td>\n",
       "      <td>RESTAURANT</td>\n",
       "      <td>28</td>\n",
       "    </tr>\n",
       "    <tr>\n",
       "      <th>7408</th>\n",
       "      <td>19194</td>\n",
       "      <td>TAQUERIA LOS 3 CARNALES</td>\n",
       "      <td>5000 E WHITTIER BLVD</td>\n",
       "      <td>&lt;NA&gt;</td>\n",
       "      <td>RESTAURANT</td>\n",
       "      <td>14</td>\n",
       "    </tr>\n",
       "    <tr>\n",
       "      <th>7523</th>\n",
       "      <td>19309</td>\n",
       "      <td>JAMMIN JIMMY'S PIZZA</td>\n",
       "      <td>1641 FIRESTONE BLVD</td>\n",
       "      <td>&lt;NA&gt;</td>\n",
       "      <td>PIZZA</td>\n",
       "      <td>1</td>\n",
       "    </tr>\n",
       "    <tr>\n",
       "      <th>8648</th>\n",
       "      <td>20434</td>\n",
       "      <td>THE LEXINGTON THEATER</td>\n",
       "      <td>129 E 3RD ST</td>\n",
       "      <td>&lt;NA&gt;</td>\n",
       "      <td>RESTAURANT</td>\n",
       "      <td>35</td>\n",
       "    </tr>\n",
       "    <tr>\n",
       "      <th>9616</th>\n",
       "      <td>21402</td>\n",
       "      <td>TACOS LOS 4 CARNALES</td>\n",
       "      <td>5000 WHITTIER BLVD</td>\n",
       "      <td>False</td>\n",
       "      <td>FAST FOOD</td>\n",
       "      <td>9</td>\n",
       "    </tr>\n",
       "  </tbody>\n",
       "</table>\n",
       "</div>"
      ],
      "text/plain": [
       "         id              object_name               address  chain object_type  \\\n",
       "6419  18205       TACOS LOS CARNALES    4370 S CENTRAL AVE  False   FAST FOOD   \n",
       "6624  18410     TACOS LOS 3 CARNALES    5000 WHITTIER BLVD  False   FAST FOOD   \n",
       "6790  18576           WI JAMMIN CAFE   1359 S REDONDO BLVD  False  RESTAURANT   \n",
       "7408  19194  TAQUERIA LOS 3 CARNALES  5000 E WHITTIER BLVD   <NA>  RESTAURANT   \n",
       "7523  19309     JAMMIN JIMMY'S PIZZA   1641 FIRESTONE BLVD   <NA>       PIZZA   \n",
       "8648  20434    THE LEXINGTON THEATER          129 E 3RD ST   <NA>  RESTAURANT   \n",
       "9616  21402     TACOS LOS 4 CARNALES    5000 WHITTIER BLVD  False   FAST FOOD   \n",
       "\n",
       "      number  \n",
       "6419      47  \n",
       "6624       6  \n",
       "6790      28  \n",
       "7408      14  \n",
       "7523       1  \n",
       "8648      35  \n",
       "9616       9  "
      ]
     },
     "execution_count": 10,
     "metadata": {},
     "output_type": "execute_result"
    }
   ],
   "source": [
    "# buscamos 'CARNALES', 'LEXINGTON' y 'JAMMIN' en el set de datos\\n\",\n",
    "rest_data[(rest_data['object_name'].str.contains('CARNALES'))\\\n",
    "                | (rest_data['object_name'].str.contains('LEXINGTON'))\\\n",
    "                | (rest_data['object_name'].str.contains('JAMMIN'))]"
   ]
  },
  {
   "cell_type": "code",
   "execution_count": 11,
   "metadata": {},
   "outputs": [
    {
     "data": {
      "text/plain": [
       "id             0\n",
       "object_name    0\n",
       "address        0\n",
       "chain          0\n",
       "object_type    0\n",
       "number         0\n",
       "dtype: int64"
      ]
     },
     "execution_count": 11,
     "metadata": {},
     "output_type": "execute_result"
    }
   ],
   "source": [
    "# vamos a remplazar los valores ausentes en la columna chain con false\n",
    "rest_data['chain'].fillna(False, inplace=True)\n",
    "rest_data.isna().sum()"
   ]
  },
  {
   "cell_type": "code",
   "execution_count": 12,
   "metadata": {},
   "outputs": [
    {
     "data": {
      "text/html": [
       "<div>\n",
       "<style scoped>\n",
       "    .dataframe tbody tr th:only-of-type {\n",
       "        vertical-align: middle;\n",
       "    }\n",
       "\n",
       "    .dataframe tbody tr th {\n",
       "        vertical-align: top;\n",
       "    }\n",
       "\n",
       "    .dataframe thead th {\n",
       "        text-align: right;\n",
       "    }\n",
       "</style>\n",
       "<table border=\"1\" class=\"dataframe\">\n",
       "  <thead>\n",
       "    <tr style=\"text-align: right;\">\n",
       "      <th></th>\n",
       "      <th>id</th>\n",
       "      <th>object_name</th>\n",
       "      <th>address</th>\n",
       "      <th>chain</th>\n",
       "      <th>object_type</th>\n",
       "      <th>number</th>\n",
       "    </tr>\n",
       "  </thead>\n",
       "  <tbody>\n",
       "    <tr>\n",
       "      <th>0</th>\n",
       "      <td>11786</td>\n",
       "      <td>HABITAT COFFEE SHOP</td>\n",
       "      <td>3708 N EAGLE ROCK BLVD</td>\n",
       "      <td>No pertenece</td>\n",
       "      <td>CAFE</td>\n",
       "      <td>26</td>\n",
       "    </tr>\n",
       "    <tr>\n",
       "      <th>1</th>\n",
       "      <td>11787</td>\n",
       "      <td>REILLY'S</td>\n",
       "      <td>100 WORLD WAY # 120</td>\n",
       "      <td>No pertenece</td>\n",
       "      <td>RESTAURANT</td>\n",
       "      <td>9</td>\n",
       "    </tr>\n",
       "    <tr>\n",
       "      <th>2</th>\n",
       "      <td>11788</td>\n",
       "      <td>STREET CHURROS</td>\n",
       "      <td>6801 HOLLYWOOD BLVD # 253</td>\n",
       "      <td>No pertenece</td>\n",
       "      <td>FAST FOOD</td>\n",
       "      <td>20</td>\n",
       "    </tr>\n",
       "    <tr>\n",
       "      <th>3</th>\n",
       "      <td>11789</td>\n",
       "      <td>TRINITI ECHO PARK</td>\n",
       "      <td>1814 W SUNSET BLVD</td>\n",
       "      <td>No pertenece</td>\n",
       "      <td>RESTAURANT</td>\n",
       "      <td>22</td>\n",
       "    </tr>\n",
       "    <tr>\n",
       "      <th>4</th>\n",
       "      <td>11790</td>\n",
       "      <td>POLLEN</td>\n",
       "      <td>2100 ECHO PARK AVE</td>\n",
       "      <td>No pertenece</td>\n",
       "      <td>RESTAURANT</td>\n",
       "      <td>20</td>\n",
       "    </tr>\n",
       "  </tbody>\n",
       "</table>\n",
       "</div>"
      ],
      "text/plain": [
       "      id          object_name                    address         chain  \\\n",
       "0  11786  HABITAT COFFEE SHOP     3708 N EAGLE ROCK BLVD  No pertenece   \n",
       "1  11787             REILLY'S        100 WORLD WAY # 120  No pertenece   \n",
       "2  11788       STREET CHURROS  6801 HOLLYWOOD BLVD # 253  No pertenece   \n",
       "3  11789    TRINITI ECHO PARK         1814 W SUNSET BLVD  No pertenece   \n",
       "4  11790               POLLEN         2100 ECHO PARK AVE  No pertenece   \n",
       "\n",
       "  object_type  number  \n",
       "0        CAFE      26  \n",
       "1  RESTAURANT       9  \n",
       "2   FAST FOOD      20  \n",
       "3  RESTAURANT      22  \n",
       "4  RESTAURANT      20  "
      ]
     },
     "execution_count": 12,
     "metadata": {},
     "output_type": "execute_result"
    }
   ],
   "source": [
    "# reemplazamos los valores en la columna chain para una mejor comprensión \n",
    "rest_data['chain'].replace({False:'No pertenece', True:'Pertenece'},inplace=True)\n",
    "rest_data.head()"
   ]
  },
  {
   "cell_type": "code",
   "execution_count": 13,
   "metadata": {},
   "outputs": [
    {
     "name": "stdout",
     "output_type": "stream",
     "text": [
      "datos duplicados: 0\n"
     ]
    }
   ],
   "source": [
    "print(f'datos duplicados: {rest_data.duplicated().sum()}')"
   ]
  },
  {
   "cell_type": "markdown",
   "metadata": {},
   "source": [
    "**Conclusión intermedia**\n",
    "- Cambiamos los datos de las columnas de minusculas a mayusculas para un mejor manejo de los datos.\n",
    "- Remplazamos los valores ausentes por False ya que en una exploracion los comercios con el mismo nombre pertenecian a false.\n",
    "- Cambiamos los valores de la columna chain de **False a No pertenece y de True a pertenece** para una mejor compresión de los valores.\n"
   ]
  },
  {
   "cell_type": "markdown",
   "metadata": {},
   "source": [
    "### Nombres de cadenas comerciales. <a id='ndcc'></a>"
   ]
  },
  {
   "cell_type": "code",
   "execution_count": 14,
   "metadata": {},
   "outputs": [],
   "source": [
    "# Definamos una función para extraer el nombre de un establecimiento que pueda pertenecer a una cadena\n",
    "def extraer_name_chain(object_name):\n",
    "  \n",
    "    name = object_name\n",
    "    \n",
    "# eliminemos los digitos y los numerales al inicio y final del texto\n",
    "    patron = re.compile(r'#\\d+|#\\s\\d+|#\\w+\\d+\\-\\d+')\n",
    "    texto_limpio = patron.sub('', name)\n",
    "    \n",
    "# vamos a reemplazar 'CO.' por 'COMPANY'\n",
    "    patron = re.compile(r'COMPANY')\n",
    "    texto_limpio_2 = patron.sub('CO.', texto_limpio)\n",
    "    \n",
    "# vamos a reemplazar 'INCORPORATION' por 'INC.'\n",
    "    patron = re.compile(r'INCORPORATION')\n",
    "    texto_limpio_3 = patron.sub('INC.', texto_limpio_2).strip()\n",
    "    \n",
    "    return texto_limpio_3"
   ]
  },
  {
   "cell_type": "code",
   "execution_count": 15,
   "metadata": {},
   "outputs": [],
   "source": [
    "# aplicamos la funcion para extraer el 'name_chain' de los establecimientos\n",
    "rest_data['name_chain'] = rest_data['object_name'].apply(extraer_name_chain)"
   ]
  },
  {
   "cell_type": "code",
   "execution_count": 16,
   "metadata": {},
   "outputs": [
    {
     "data": {
      "text/html": [
       "<div>\n",
       "<style scoped>\n",
       "    .dataframe tbody tr th:only-of-type {\n",
       "        vertical-align: middle;\n",
       "    }\n",
       "\n",
       "    .dataframe tbody tr th {\n",
       "        vertical-align: top;\n",
       "    }\n",
       "\n",
       "    .dataframe thead th {\n",
       "        text-align: right;\n",
       "    }\n",
       "</style>\n",
       "<table border=\"1\" class=\"dataframe\">\n",
       "  <thead>\n",
       "    <tr style=\"text-align: right;\">\n",
       "      <th></th>\n",
       "      <th>id</th>\n",
       "      <th>object_name</th>\n",
       "      <th>address</th>\n",
       "      <th>chain</th>\n",
       "      <th>object_type</th>\n",
       "      <th>number</th>\n",
       "      <th>name_chain</th>\n",
       "    </tr>\n",
       "  </thead>\n",
       "  <tbody>\n",
       "    <tr>\n",
       "      <th>0</th>\n",
       "      <td>11786</td>\n",
       "      <td>HABITAT COFFEE SHOP</td>\n",
       "      <td>3708 N EAGLE ROCK BLVD</td>\n",
       "      <td>No pertenece</td>\n",
       "      <td>CAFE</td>\n",
       "      <td>26</td>\n",
       "      <td>HABITAT COFFEE SHOP</td>\n",
       "    </tr>\n",
       "    <tr>\n",
       "      <th>1</th>\n",
       "      <td>11787</td>\n",
       "      <td>REILLY'S</td>\n",
       "      <td>100 WORLD WAY # 120</td>\n",
       "      <td>No pertenece</td>\n",
       "      <td>RESTAURANT</td>\n",
       "      <td>9</td>\n",
       "      <td>REILLY'S</td>\n",
       "    </tr>\n",
       "    <tr>\n",
       "      <th>2</th>\n",
       "      <td>11788</td>\n",
       "      <td>STREET CHURROS</td>\n",
       "      <td>6801 HOLLYWOOD BLVD # 253</td>\n",
       "      <td>No pertenece</td>\n",
       "      <td>FAST FOOD</td>\n",
       "      <td>20</td>\n",
       "      <td>STREET CHURROS</td>\n",
       "    </tr>\n",
       "    <tr>\n",
       "      <th>3</th>\n",
       "      <td>11789</td>\n",
       "      <td>TRINITI ECHO PARK</td>\n",
       "      <td>1814 W SUNSET BLVD</td>\n",
       "      <td>No pertenece</td>\n",
       "      <td>RESTAURANT</td>\n",
       "      <td>22</td>\n",
       "      <td>TRINITI ECHO PARK</td>\n",
       "    </tr>\n",
       "    <tr>\n",
       "      <th>4</th>\n",
       "      <td>11790</td>\n",
       "      <td>POLLEN</td>\n",
       "      <td>2100 ECHO PARK AVE</td>\n",
       "      <td>No pertenece</td>\n",
       "      <td>RESTAURANT</td>\n",
       "      <td>20</td>\n",
       "      <td>POLLEN</td>\n",
       "    </tr>\n",
       "  </tbody>\n",
       "</table>\n",
       "</div>"
      ],
      "text/plain": [
       "      id          object_name                    address         chain  \\\n",
       "0  11786  HABITAT COFFEE SHOP     3708 N EAGLE ROCK BLVD  No pertenece   \n",
       "1  11787             REILLY'S        100 WORLD WAY # 120  No pertenece   \n",
       "2  11788       STREET CHURROS  6801 HOLLYWOOD BLVD # 253  No pertenece   \n",
       "3  11789    TRINITI ECHO PARK         1814 W SUNSET BLVD  No pertenece   \n",
       "4  11790               POLLEN         2100 ECHO PARK AVE  No pertenece   \n",
       "\n",
       "  object_type  number           name_chain  \n",
       "0        CAFE      26  HABITAT COFFEE SHOP  \n",
       "1  RESTAURANT       9             REILLY'S  \n",
       "2   FAST FOOD      20       STREET CHURROS  \n",
       "3  RESTAURANT      22    TRINITI ECHO PARK  \n",
       "4  RESTAURANT      20               POLLEN  "
      ]
     },
     "execution_count": 16,
     "metadata": {},
     "output_type": "execute_result"
    }
   ],
   "source": [
    "# veamos los datos.\n",
    "rest_data.head(5)"
   ]
  },
  {
   "cell_type": "code",
   "execution_count": 17,
   "metadata": {},
   "outputs": [
    {
     "data": {
      "text/plain": [
       "chain      name_chain                           \n",
       "Pertenece  STARBUCKS COFFEE                         87\n",
       "           STARBUCKS                                30\n",
       "           STARBUCKS EVENING                         2\n",
       "           STARBUCKS  @ USC                          1\n",
       "           STARBUCKS (COFFEE BAR) LEVEL 1 - UCLA     1\n",
       "           STARBUCKS -  DEPARTURE                    1\n",
       "           STARBUCKS - ARRIVAL                       1\n",
       "           STARBUCKS 22477                           1\n",
       "           STARBUCKS CAFE 84                         1\n",
       "           STARBUCKS COFFEE CORPORATION              1\n",
       "           STARBUCKS STORE                           1\n",
       "           STARBUCKS-17413                           1\n",
       "           STARBUCKS/LA CAFE                         1\n",
       "dtype: int64"
      ]
     },
     "execution_count": 17,
     "metadata": {},
     "output_type": "execute_result"
    }
   ],
   "source": [
    "# consideremos la siguiente agrupacion para 'STARBUCKS'\n",
    "rest_data[rest_data['object_name'].str.contains(\"STARBUCKS\")][['chain','name_chain']].value_counts()"
   ]
  },
  {
   "cell_type": "code",
   "execution_count": 18,
   "metadata": {},
   "outputs": [
    {
     "data": {
      "text/plain": [
       "['STARBUCKS']"
      ]
     },
     "execution_count": 18,
     "metadata": {},
     "output_type": "execute_result"
    }
   ],
   "source": [
    "# encontremos la similitud entre las palabras usando la libreria 'difflib'\n",
    "difflib.get_close_matches('STARBUCKS 22477', ['STARBUCKS COFFEE', 'STARBUCKS',\"ANDY'S BAKERY\"],cutoff=0.7)"
   ]
  },
  {
   "cell_type": "code",
   "execution_count": 19,
   "metadata": {},
   "outputs": [
    {
     "data": {
      "text/plain": [
       "['STARBUCKS COFFEE', 'STARBUCKS']"
      ]
     },
     "execution_count": 19,
     "metadata": {},
     "output_type": "execute_result"
    }
   ],
   "source": [
    "# encontremos la similitud entre las palabras usando la libreria 'difflib'\n",
    "difflib.get_close_matches('STARBUCKS CAFE 84', ['STARBUCKS COFFEE', 'STARBUCKS',\"ANDY'S BAKERY\",'TACO BELL'],cutoff=0.5)"
   ]
  },
  {
   "cell_type": "code",
   "execution_count": 20,
   "metadata": {},
   "outputs": [
    {
     "data": {
      "text/plain": [
       "SUBWAY                        113\n",
       "STARBUCKS COFFEE               87\n",
       "MCDONALD'S                     79\n",
       "JACK IN THE BOX                52\n",
       "THE COFFEE BEAN & TEA LEAF     51\n",
       "                             ... \n",
       "CAFFE DELIZIOSO                 1\n",
       "BOTTLE ROCK                     1\n",
       "FAT BURGER                      1\n",
       "WABA GRILL, LLC                 1\n",
       "PIZZA MAN 8                     1\n",
       "Name: name_chain, Length: 2102, dtype: int64"
      ]
     },
     "execution_count": 20,
     "metadata": {},
     "output_type": "execute_result"
    }
   ],
   "source": [
    "# consideremos la siguiente agrupacion de establecimientos que pertenecen a una cadena\n",
    "rest_data[rest_data['chain'] == 'Pertenece']['name_chain'].value_counts()"
   ]
  },
  {
   "cell_type": "code",
   "execution_count": 21,
   "metadata": {},
   "outputs": [
    {
     "data": {
      "text/plain": [
       "array([1., 1., 2., 2., 4., 8.])"
      ]
     },
     "execution_count": 21,
     "metadata": {},
     "output_type": "execute_result"
    }
   ],
   "source": [
    "# contamos las veces que se repite el nombre de un establecimiento y mostramos percentiles para este conteo\n",
    "data = rest_data['name_chain'].value_counts()\n",
    "np.percentile(data,[50,90,95,97,99,99.5])"
   ]
  },
  {
   "cell_type": "code",
   "execution_count": 22,
   "metadata": {},
   "outputs": [],
   "source": [
    "# creamos una lista con los nombres de establecimiento que se repiten 8 ó mas veces\n",
    "repeat_name = [data.index[i] for i in range(len(data)) if data[i]>=8]"
   ]
  },
  {
   "cell_type": "code",
   "execution_count": 23,
   "metadata": {},
   "outputs": [],
   "source": [
    "# Creamos una columna con el nombre de los establecimientos definitivos, aquellos que pertenecen a una cadena\n",
    "def name_rest(name_chain):\n",
    "    \n",
    "# comparamos cada valor de la columna 'extraer_name_chain' con los valores de la lista 'repeat_name' y encontrar similitudes\n",
    "    try:\n",
    "        name = difflib.get_close_matches(name_chain, repeat_name, cutoff = 0.8)[0]\n",
    "        return name\n",
    "    except:\n",
    "        return name_chain"
   ]
  },
  {
   "cell_type": "code",
   "execution_count": 24,
   "metadata": {},
   "outputs": [],
   "source": [
    "# aplicamos la funcion para crear el name_restde los establecimientos\n",
    "rest_data['restaurant'] = rest_data['name_chain'].apply(name_rest)"
   ]
  },
  {
   "cell_type": "code",
   "execution_count": 25,
   "metadata": {},
   "outputs": [],
   "source": [
    "# eliminamos la columna 'pre_name_chain'\n",
    "rest_data.drop('name_chain', inplace=True, axis=1)"
   ]
  },
  {
   "cell_type": "code",
   "execution_count": 26,
   "metadata": {},
   "outputs": [
    {
     "data": {
      "text/html": [
       "<div>\n",
       "<style scoped>\n",
       "    .dataframe tbody tr th:only-of-type {\n",
       "        vertical-align: middle;\n",
       "    }\n",
       "\n",
       "    .dataframe tbody tr th {\n",
       "        vertical-align: top;\n",
       "    }\n",
       "\n",
       "    .dataframe thead th {\n",
       "        text-align: right;\n",
       "    }\n",
       "</style>\n",
       "<table border=\"1\" class=\"dataframe\">\n",
       "  <thead>\n",
       "    <tr style=\"text-align: right;\">\n",
       "      <th></th>\n",
       "      <th>id</th>\n",
       "      <th>object_name</th>\n",
       "      <th>address</th>\n",
       "      <th>chain</th>\n",
       "      <th>object_type</th>\n",
       "      <th>number</th>\n",
       "      <th>restaurant</th>\n",
       "    </tr>\n",
       "  </thead>\n",
       "  <tbody>\n",
       "    <tr>\n",
       "      <th>4166</th>\n",
       "      <td>15952</td>\n",
       "      <td>STARBUCKS</td>\n",
       "      <td>600 WORLD WAY # 681</td>\n",
       "      <td>Pertenece</td>\n",
       "      <td>CAFE</td>\n",
       "      <td>21</td>\n",
       "      <td>STARBUCKS</td>\n",
       "    </tr>\n",
       "    <tr>\n",
       "      <th>8703</th>\n",
       "      <td>20489</td>\n",
       "      <td>STARBUCKS #29377</td>\n",
       "      <td>534 S OCCIDENTAL BLVD</td>\n",
       "      <td>Pertenece</td>\n",
       "      <td>CAFE</td>\n",
       "      <td>25</td>\n",
       "      <td>STARBUCKS</td>\n",
       "    </tr>\n",
       "    <tr>\n",
       "      <th>6539</th>\n",
       "      <td>18325</td>\n",
       "      <td>STARBUCKS/LA CAFE</td>\n",
       "      <td>5155 STATE UNIVERSITY DR</td>\n",
       "      <td>Pertenece</td>\n",
       "      <td>CAFE</td>\n",
       "      <td>44</td>\n",
       "      <td>STARBUCKS/LA CAFE</td>\n",
       "    </tr>\n",
       "    <tr>\n",
       "      <th>964</th>\n",
       "      <td>12750</td>\n",
       "      <td>STARBUCKS COFFEE #10940</td>\n",
       "      <td>3111 GLENDALE BLVD</td>\n",
       "      <td>Pertenece</td>\n",
       "      <td>CAFE</td>\n",
       "      <td>3</td>\n",
       "      <td>STARBUCKS COFFEE</td>\n",
       "    </tr>\n",
       "    <tr>\n",
       "      <th>5936</th>\n",
       "      <td>17722</td>\n",
       "      <td>STARBUCKS COFFEE #22881</td>\n",
       "      <td>12746 W JEFFERSON BLVD</td>\n",
       "      <td>Pertenece</td>\n",
       "      <td>CAFE</td>\n",
       "      <td>7</td>\n",
       "      <td>STARBUCKS COFFEE</td>\n",
       "    </tr>\n",
       "  </tbody>\n",
       "</table>\n",
       "</div>"
      ],
      "text/plain": [
       "         id              object_name                   address      chain  \\\n",
       "4166  15952                STARBUCKS       600 WORLD WAY # 681  Pertenece   \n",
       "8703  20489         STARBUCKS #29377     534 S OCCIDENTAL BLVD  Pertenece   \n",
       "6539  18325        STARBUCKS/LA CAFE  5155 STATE UNIVERSITY DR  Pertenece   \n",
       "964   12750  STARBUCKS COFFEE #10940        3111 GLENDALE BLVD  Pertenece   \n",
       "5936  17722  STARBUCKS COFFEE #22881    12746 W JEFFERSON BLVD  Pertenece   \n",
       "\n",
       "     object_type  number         restaurant  \n",
       "4166        CAFE      21          STARBUCKS  \n",
       "8703        CAFE      25          STARBUCKS  \n",
       "6539        CAFE      44  STARBUCKS/LA CAFE  \n",
       "964         CAFE       3   STARBUCKS COFFEE  \n",
       "5936        CAFE       7   STARBUCKS COFFEE  "
      ]
     },
     "execution_count": 26,
     "metadata": {},
     "output_type": "execute_result"
    }
   ],
   "source": [
    "# mostramos parte de los datos\n",
    "rest_data[rest_data['restaurant'].str.contains('STARBUCKS')].sample(5)"
   ]
  },
  {
   "cell_type": "markdown",
   "metadata": {},
   "source": [
    "### Separar las calles de la dirección. <a id='slcdlc'></a>"
   ]
  },
  {
   "cell_type": "code",
   "execution_count": 27,
   "metadata": {},
   "outputs": [],
   "source": [
    "# creamos una lista con los tipos de direcciones usando 'DIRECTIONS'\n",
    "directions_list = [valor.upper() for valor in DIRECTIONS]"
   ]
  },
  {
   "cell_type": "code",
   "execution_count": 28,
   "metadata": {},
   "outputs": [],
   "source": [
    "# creamos una lista con los tipoa de calles usando 'STREET_NAMES'\n",
    "street_list =[valor.upper() for valor in STREET_NAMES]\n",
    "\n",
    "# Añadimos un valor a remover o añadir en la lista de 'street_name_list', esto nos va permitir que haya menos calles con valores vacios o nulos, o que el nombre aparezca más limpio\n",
    "\n",
    "street_list.append('STE')\n",
    "street_list.append('PK')\n",
    "street_list.remove('HILL')\n",
    "street_list.remove('WAY')\n",
    "street_list.remove('GROVE')\n",
    "street_list.remove('PARK')\n",
    "street_list.remove('SPRING')\n",
    "street_list.remove('GATEWAY')\n",
    "street_list.remove('VALLEY')\n",
    "street_list.remove('UNION')\n",
    "street_list.remove('CENTER')\n",
    "street_list.remove('FOREST')\n",
    "street_list.remove('WALL')\n",
    "street_list.remove('MISSION')\n",
    "street_list.remove('FORD')\n",
    "street_list.remove('AVENUE')\n",
    "street_list.remove('PLAZA')\n",
    "street_list.remove('VILLAGE')\n",
    "street_list.remove('TERRACE')"
   ]
  },
  {
   "cell_type": "code",
   "execution_count": 29,
   "metadata": {},
   "outputs": [],
   "source": [
    "# Creamos la función para extraer el nombre de la calle a partir de una dirección en USA, usando re.compile\n",
    "def extraer_street(address):\n",
    "   \n",
    "    domicilio = address\n",
    "    \n",
    "    direcciones=['E','W','S','N','SE','SW','NE','NW']\n",
    "    \n",
    "# eliminemos los digitos y los numerales al inicio y final del texto\n",
    "    nuevo_texto = re.sub(r'^\\d+|\\s\\d+\\s|\\s#.*|\\s\\w\\d+','', domicilio)\n",
    "    \n",
    "# quitamos abreviaturas de direcciones\n",
    "    pattern1 = '|'.join(map(re.escape, direcciones))+\" \"\n",
    "    p=re.compile(r'\\b(?:{})\\b'.format(pattern1))\n",
    "    sin_direcciones=p.sub('', nuevo_texto).strip()\n",
    "    \n",
    "# quitamos abreviaturas de calles\n",
    "    pattern2 = '|'.join(map(re.escape, street_list))\n",
    "    \n",
    "    p=re.compile(r'\\b(?:{})\\b'.format(pattern2))\n",
    "    sin_tipo_calle=p.sub('', sin_direcciones)\n",
    "    \n",
    "# quitamos algun digito que haya quedado\n",
    "    resultado = re.sub(r'\\s\\d+$', '', sin_tipo_calle).strip()\n",
    "    \n",
    "    return resultado"
   ]
  },
  {
   "cell_type": "code",
   "execution_count": 30,
   "metadata": {},
   "outputs": [],
   "source": [
    "# aplicamos la funcion para extraer el nombre\n",
    "rest_data['pre_street'] = rest_data['address'].apply(extraer_street)"
   ]
  },
  {
   "cell_type": "code",
   "execution_count": 31,
   "metadata": {},
   "outputs": [
    {
     "data": {
      "text/html": [
       "<div>\n",
       "<style scoped>\n",
       "    .dataframe tbody tr th:only-of-type {\n",
       "        vertical-align: middle;\n",
       "    }\n",
       "\n",
       "    .dataframe tbody tr th {\n",
       "        vertical-align: top;\n",
       "    }\n",
       "\n",
       "    .dataframe thead th {\n",
       "        text-align: right;\n",
       "    }\n",
       "</style>\n",
       "<table border=\"1\" class=\"dataframe\">\n",
       "  <thead>\n",
       "    <tr style=\"text-align: right;\">\n",
       "      <th></th>\n",
       "      <th>id</th>\n",
       "      <th>object_name</th>\n",
       "      <th>address</th>\n",
       "      <th>chain</th>\n",
       "      <th>object_type</th>\n",
       "      <th>number</th>\n",
       "      <th>restaurant</th>\n",
       "      <th>pre_street</th>\n",
       "    </tr>\n",
       "  </thead>\n",
       "  <tbody>\n",
       "    <tr>\n",
       "      <th>0</th>\n",
       "      <td>11786</td>\n",
       "      <td>HABITAT COFFEE SHOP</td>\n",
       "      <td>3708 N EAGLE ROCK BLVD</td>\n",
       "      <td>No pertenece</td>\n",
       "      <td>CAFE</td>\n",
       "      <td>26</td>\n",
       "      <td>HABITAT COFFEE SHOP</td>\n",
       "      <td>EAGLE ROCK</td>\n",
       "    </tr>\n",
       "    <tr>\n",
       "      <th>1</th>\n",
       "      <td>11787</td>\n",
       "      <td>REILLY'S</td>\n",
       "      <td>100 WORLD WAY # 120</td>\n",
       "      <td>No pertenece</td>\n",
       "      <td>RESTAURANT</td>\n",
       "      <td>9</td>\n",
       "      <td>REILLY'S</td>\n",
       "      <td>WORLD WAY</td>\n",
       "    </tr>\n",
       "    <tr>\n",
       "      <th>2</th>\n",
       "      <td>11788</td>\n",
       "      <td>STREET CHURROS</td>\n",
       "      <td>6801 HOLLYWOOD BLVD # 253</td>\n",
       "      <td>No pertenece</td>\n",
       "      <td>FAST FOOD</td>\n",
       "      <td>20</td>\n",
       "      <td>STREET CHURROS</td>\n",
       "      <td>HOLLYWOOD</td>\n",
       "    </tr>\n",
       "    <tr>\n",
       "      <th>3</th>\n",
       "      <td>11789</td>\n",
       "      <td>TRINITI ECHO PARK</td>\n",
       "      <td>1814 W SUNSET BLVD</td>\n",
       "      <td>No pertenece</td>\n",
       "      <td>RESTAURANT</td>\n",
       "      <td>22</td>\n",
       "      <td>TRINITI ECHO PARK</td>\n",
       "      <td>SUNSET</td>\n",
       "    </tr>\n",
       "    <tr>\n",
       "      <th>4</th>\n",
       "      <td>11790</td>\n",
       "      <td>POLLEN</td>\n",
       "      <td>2100 ECHO PARK AVE</td>\n",
       "      <td>No pertenece</td>\n",
       "      <td>RESTAURANT</td>\n",
       "      <td>20</td>\n",
       "      <td>POLLEN</td>\n",
       "      <td>ECHO PARK</td>\n",
       "    </tr>\n",
       "  </tbody>\n",
       "</table>\n",
       "</div>"
      ],
      "text/plain": [
       "      id          object_name                    address         chain  \\\n",
       "0  11786  HABITAT COFFEE SHOP     3708 N EAGLE ROCK BLVD  No pertenece   \n",
       "1  11787             REILLY'S        100 WORLD WAY # 120  No pertenece   \n",
       "2  11788       STREET CHURROS  6801 HOLLYWOOD BLVD # 253  No pertenece   \n",
       "3  11789    TRINITI ECHO PARK         1814 W SUNSET BLVD  No pertenece   \n",
       "4  11790               POLLEN         2100 ECHO PARK AVE  No pertenece   \n",
       "\n",
       "  object_type  number           restaurant  pre_street  \n",
       "0        CAFE      26  HABITAT COFFEE SHOP  EAGLE ROCK  \n",
       "1  RESTAURANT       9             REILLY'S   WORLD WAY  \n",
       "2   FAST FOOD      20       STREET CHURROS   HOLLYWOOD  \n",
       "3  RESTAURANT      22    TRINITI ECHO PARK      SUNSET  \n",
       "4  RESTAURANT      20               POLLEN   ECHO PARK  "
      ]
     },
     "execution_count": 31,
     "metadata": {},
     "output_type": "execute_result"
    }
   ],
   "source": [
    "rest_data.head(5)"
   ]
  },
  {
   "cell_type": "code",
   "execution_count": 32,
   "metadata": {},
   "outputs": [
    {
     "data": {
      "text/plain": [
       "array([  1.  ,  21.  ,  57.  ,  83.35, 246.  ])"
      ]
     },
     "execution_count": 32,
     "metadata": {},
     "output_type": "execute_result"
    }
   ],
   "source": [
    "# contamos las veces que se repite una calle y mostramos percentiles para este conteo\n",
    "data = rest_data['pre_street'].value_counts()\n",
    "np.percentile(data, [50,90,95,97,99])"
   ]
  },
  {
   "cell_type": "code",
   "execution_count": 33,
   "metadata": {},
   "outputs": [],
   "source": [
    "# creamos una lista con las calles que se repiten 22 ó mas veces\n",
    "list_repeat_street = [data.index[i] for i in range(len(data)) if data[i]>=22]"
   ]
  },
  {
   "cell_type": "code",
   "execution_count": 34,
   "metadata": {},
   "outputs": [],
   "source": [
    "# Creamos una columna con el nombre de las calles definitivas\n",
    "def extraer_street(pre_street):\n",
    "\n",
    "# comparamos los valores en la lista 'lista_calles' con los valores en la columna 'pre_calle'\n",
    "    for elem in list_repeat_street:\n",
    "        if elem in pre_street:\n",
    "            return elem\n",
    "        else:\n",
    "            return pre_street"
   ]
  },
  {
   "cell_type": "code",
   "execution_count": 35,
   "metadata": {},
   "outputs": [],
   "source": [
    "# aplicamos la funcion para extraer el nombre de la calle\n",
    "rest_data['street'] = rest_data['pre_street'].apply(extraer_street)"
   ]
  },
  {
   "cell_type": "code",
   "execution_count": 36,
   "metadata": {},
   "outputs": [],
   "source": [
    "# eliminamos la columna 'calle'\n",
    "rest_data.drop('pre_street', inplace=True, axis=1)"
   ]
  },
  {
   "cell_type": "code",
   "execution_count": 37,
   "metadata": {},
   "outputs": [
    {
     "data": {
      "text/html": [
       "<div>\n",
       "<style scoped>\n",
       "    .dataframe tbody tr th:only-of-type {\n",
       "        vertical-align: middle;\n",
       "    }\n",
       "\n",
       "    .dataframe tbody tr th {\n",
       "        vertical-align: top;\n",
       "    }\n",
       "\n",
       "    .dataframe thead th {\n",
       "        text-align: right;\n",
       "    }\n",
       "</style>\n",
       "<table border=\"1\" class=\"dataframe\">\n",
       "  <thead>\n",
       "    <tr style=\"text-align: right;\">\n",
       "      <th></th>\n",
       "      <th>id</th>\n",
       "      <th>object_name</th>\n",
       "      <th>address</th>\n",
       "      <th>chain</th>\n",
       "      <th>object_type</th>\n",
       "      <th>number</th>\n",
       "      <th>restaurant</th>\n",
       "      <th>street</th>\n",
       "    </tr>\n",
       "  </thead>\n",
       "  <tbody>\n",
       "    <tr>\n",
       "      <th>6312</th>\n",
       "      <td>18098</td>\n",
       "      <td>LOS PINOS NUEVOS BAKERY</td>\n",
       "      <td>3614 E 1ST ST</td>\n",
       "      <td>Pertenece</td>\n",
       "      <td>BAKERY</td>\n",
       "      <td>4</td>\n",
       "      <td>LOS PINOS NUEVOS BAKERY</td>\n",
       "      <td>1ST</td>\n",
       "    </tr>\n",
       "    <tr>\n",
       "      <th>1597</th>\n",
       "      <td>13383</td>\n",
       "      <td>LA AZTECA PANADERIA</td>\n",
       "      <td>4146 E OLYMPIC BLVD STE A</td>\n",
       "      <td>No pertenece</td>\n",
       "      <td>RESTAURANT</td>\n",
       "      <td>15</td>\n",
       "      <td>LA AZTECA PANADERIA</td>\n",
       "      <td>OLYMPIC   A</td>\n",
       "    </tr>\n",
       "    <tr>\n",
       "      <th>7436</th>\n",
       "      <td>19222</td>\n",
       "      <td>FLAME BROILER</td>\n",
       "      <td>659 S FLOWER ST</td>\n",
       "      <td>Pertenece</td>\n",
       "      <td>RESTAURANT</td>\n",
       "      <td>18</td>\n",
       "      <td>FLAME BROILER</td>\n",
       "      <td>FLOWER</td>\n",
       "    </tr>\n",
       "    <tr>\n",
       "      <th>6790</th>\n",
       "      <td>18576</td>\n",
       "      <td>WI JAMMIN CAFE</td>\n",
       "      <td>1359 S REDONDO BLVD</td>\n",
       "      <td>No pertenece</td>\n",
       "      <td>RESTAURANT</td>\n",
       "      <td>28</td>\n",
       "      <td>WI JAMMIN CAFE</td>\n",
       "      <td>REDONDO</td>\n",
       "    </tr>\n",
       "    <tr>\n",
       "      <th>1630</th>\n",
       "      <td>13416</td>\n",
       "      <td>CALIFORNIA KABOB KITCHEN</td>\n",
       "      <td>141 W 11TH ST</td>\n",
       "      <td>No pertenece</td>\n",
       "      <td>RESTAURANT</td>\n",
       "      <td>34</td>\n",
       "      <td>CALIFORNIA KABOB KITCHEN</td>\n",
       "      <td>WTH</td>\n",
       "    </tr>\n",
       "  </tbody>\n",
       "</table>\n",
       "</div>"
      ],
      "text/plain": [
       "         id               object_name                    address  \\\n",
       "6312  18098   LOS PINOS NUEVOS BAKERY              3614 E 1ST ST   \n",
       "1597  13383       LA AZTECA PANADERIA  4146 E OLYMPIC BLVD STE A   \n",
       "7436  19222             FLAME BROILER            659 S FLOWER ST   \n",
       "6790  18576            WI JAMMIN CAFE        1359 S REDONDO BLVD   \n",
       "1630  13416  CALIFORNIA KABOB KITCHEN              141 W 11TH ST   \n",
       "\n",
       "             chain object_type  number                restaurant       street  \n",
       "6312     Pertenece      BAKERY       4   LOS PINOS NUEVOS BAKERY          1ST  \n",
       "1597  No pertenece  RESTAURANT      15       LA AZTECA PANADERIA  OLYMPIC   A  \n",
       "7436     Pertenece  RESTAURANT      18             FLAME BROILER       FLOWER  \n",
       "6790  No pertenece  RESTAURANT      28            WI JAMMIN CAFE      REDONDO  \n",
       "1630  No pertenece  RESTAURANT      34  CALIFORNIA KABOB KITCHEN          WTH  "
      ]
     },
     "execution_count": 37,
     "metadata": {},
     "output_type": "execute_result"
    }
   ],
   "source": [
    "# mostramos parte de los datos\n",
    "rest_data.sample(5)"
   ]
  },
  {
   "cell_type": "markdown",
   "metadata": {},
   "source": [
    "## Análisis de datos. <a id='add'></a>"
   ]
  },
  {
   "cell_type": "markdown",
   "metadata": {},
   "source": [
    "### Proporciones de los distintos tipos de establecimientos. <a id='pdldtde'></a>"
   ]
  },
  {
   "cell_type": "code",
   "execution_count": 38,
   "metadata": {},
   "outputs": [
    {
     "data": {
      "text/html": [
       "<div>\n",
       "<style scoped>\n",
       "    .dataframe tbody tr th:only-of-type {\n",
       "        vertical-align: middle;\n",
       "    }\n",
       "\n",
       "    .dataframe tbody tr th {\n",
       "        vertical-align: top;\n",
       "    }\n",
       "\n",
       "    .dataframe thead th {\n",
       "        text-align: right;\n",
       "    }\n",
       "</style>\n",
       "<table border=\"1\" class=\"dataframe\">\n",
       "  <thead>\n",
       "    <tr style=\"text-align: right;\">\n",
       "      <th></th>\n",
       "      <th>category</th>\n",
       "      <th>proportion</th>\n",
       "    </tr>\n",
       "  </thead>\n",
       "  <tbody>\n",
       "    <tr>\n",
       "      <th>0</th>\n",
       "      <td>RESTAURANT</td>\n",
       "      <td>0.751736</td>\n",
       "    </tr>\n",
       "    <tr>\n",
       "      <th>1</th>\n",
       "      <td>FAST FOOD</td>\n",
       "      <td>0.110455</td>\n",
       "    </tr>\n",
       "    <tr>\n",
       "      <th>2</th>\n",
       "      <td>CAFE</td>\n",
       "      <td>0.045073</td>\n",
       "    </tr>\n",
       "    <tr>\n",
       "      <th>3</th>\n",
       "      <td>PIZZA</td>\n",
       "      <td>0.033157</td>\n",
       "    </tr>\n",
       "    <tr>\n",
       "      <th>4</th>\n",
       "      <td>BAR</td>\n",
       "      <td>0.030256</td>\n",
       "    </tr>\n",
       "    <tr>\n",
       "      <th>5</th>\n",
       "      <td>BAKERY</td>\n",
       "      <td>0.029323</td>\n",
       "    </tr>\n",
       "  </tbody>\n",
       "</table>\n",
       "</div>"
      ],
      "text/plain": [
       "     category  proportion\n",
       "0  RESTAURANT    0.751736\n",
       "1   FAST FOOD    0.110455\n",
       "2        CAFE    0.045073\n",
       "3       PIZZA    0.033157\n",
       "4         BAR    0.030256\n",
       "5      BAKERY    0.029323"
      ]
     },
     "execution_count": 38,
     "metadata": {},
     "output_type": "execute_result"
    }
   ],
   "source": [
    "# obtenemos las proporciones para cada tipo de establecimiento\n",
    "proporcion_type = rest_data['object_type'].value_counts(normalize=True).reset_index()\n",
    "proporcion_type.columns=['category','proportion']\n",
    "proporcion_type"
   ]
  },
  {
   "cell_type": "code",
   "execution_count": 39,
   "metadata": {},
   "outputs": [
    {
     "data": {
      "image/png": "[encoded data removed]",
      "text/plain": [
       "<Figure size 864x432 with 1 Axes>"
      ]
     },
     "metadata": {
      "needs_background": "light"
     },
     "output_type": "display_data"
    }
   ],
   "source": [
    "# Trazamos un gráfico de las proporciones de los tipos de establecimiento\n",
    "f,ax = plt.subplots(figsize=(12,6))\n",
    "ax = sns.barplot(data = proporcion_type, x='category', y='proportion',\\\n",
    "            order = proporcion_type.sort_values('proportion', ascending = False).category)\n",
    "\n",
    "\n",
    "\n",
    "for rect in ax.patches:\n",
    "   \n",
    "    y_value = rect.get_height()\n",
    "    x_value = rect.get_x() + rect.get_width() / 2\n",
    "  \n",
    "    space = 3\n",
    "     \n",
    "    label = \"{:.1%}\".format(y_value)\n",
    "   \n",
    "    ax.annotate(\n",
    "        label,                      \n",
    "        (x_value, y_value),         \n",
    "        xytext = (0, space),          \n",
    "        textcoords = \"offset points\",\n",
    "        ha = 'center',               \n",
    "        va = 'bottom')     \n",
    "plt.ylim(0, proporcion_type['proportion'].max()*1.1)\n",
    "plt.title('Proporciones por establecimiento')\n",
    "plt.ylabel('Proporción')\n",
    "plt.xlabel('Establecimiento')\n",
    "plt.xticks(rotation = 45, ha = 'right')\n",
    "plt.show()"
   ]
  },
  {
   "cell_type": "markdown",
   "metadata": {},
   "source": [
    "- Hay una gran cantidad de restaurantes establecidos en los L.A.\n",
    "- Un establecimiento de café está en el tercer lugar con presencia en los L.A.\n",
    "- fuente: datos abiertos sobre restaurantes en los L.A."
   ]
  },
  {
   "cell_type": "markdown",
   "metadata": {},
   "source": [
    "### Proporciones de los distintos tipos de establecimientos que pertenecen a una cadena. <a id='pdldtdeqpauc'></a>"
   ]
  },
  {
   "cell_type": "code",
   "execution_count": 40,
   "metadata": {},
   "outputs": [
    {
     "data": {
      "text/html": [
       "<div>\n",
       "<style scoped>\n",
       "    .dataframe tbody tr th:only-of-type {\n",
       "        vertical-align: middle;\n",
       "    }\n",
       "\n",
       "    .dataframe tbody tr th {\n",
       "        vertical-align: top;\n",
       "    }\n",
       "\n",
       "    .dataframe thead th {\n",
       "        text-align: right;\n",
       "    }\n",
       "</style>\n",
       "<table border=\"1\" class=\"dataframe\">\n",
       "  <thead>\n",
       "    <tr style=\"text-align: right;\">\n",
       "      <th></th>\n",
       "      <th>category</th>\n",
       "      <th>chain</th>\n",
       "      <th>proportion</th>\n",
       "    </tr>\n",
       "  </thead>\n",
       "  <tbody>\n",
       "    <tr>\n",
       "      <th>0</th>\n",
       "      <td>RESTAURANT</td>\n",
       "      <td>No pertenece</td>\n",
       "      <td>0.514247</td>\n",
       "    </tr>\n",
       "    <tr>\n",
       "      <th>1</th>\n",
       "      <td>RESTAURANT</td>\n",
       "      <td>Pertenece</td>\n",
       "      <td>0.237488</td>\n",
       "    </tr>\n",
       "    <tr>\n",
       "      <th>2</th>\n",
       "      <td>FAST FOOD</td>\n",
       "      <td>Pertenece</td>\n",
       "      <td>0.062688</td>\n",
       "    </tr>\n",
       "    <tr>\n",
       "      <th>3</th>\n",
       "      <td>FAST FOOD</td>\n",
       "      <td>No pertenece</td>\n",
       "      <td>0.047767</td>\n",
       "    </tr>\n",
       "    <tr>\n",
       "      <th>4</th>\n",
       "      <td>BAKERY</td>\n",
       "      <td>Pertenece</td>\n",
       "      <td>0.029323</td>\n",
       "    </tr>\n",
       "    <tr>\n",
       "      <th>5</th>\n",
       "      <td>CAFE</td>\n",
       "      <td>Pertenece</td>\n",
       "      <td>0.027562</td>\n",
       "    </tr>\n",
       "    <tr>\n",
       "      <th>6</th>\n",
       "      <td>BAR</td>\n",
       "      <td>No pertenece</td>\n",
       "      <td>0.022277</td>\n",
       "    </tr>\n",
       "    <tr>\n",
       "      <th>7</th>\n",
       "      <td>CAFE</td>\n",
       "      <td>No pertenece</td>\n",
       "      <td>0.017511</td>\n",
       "    </tr>\n",
       "    <tr>\n",
       "      <th>8</th>\n",
       "      <td>PIZZA</td>\n",
       "      <td>No pertenece</td>\n",
       "      <td>0.017304</td>\n",
       "    </tr>\n",
       "    <tr>\n",
       "      <th>9</th>\n",
       "      <td>PIZZA</td>\n",
       "      <td>Pertenece</td>\n",
       "      <td>0.015853</td>\n",
       "    </tr>\n",
       "    <tr>\n",
       "      <th>10</th>\n",
       "      <td>BAR</td>\n",
       "      <td>Pertenece</td>\n",
       "      <td>0.007978</td>\n",
       "    </tr>\n",
       "  </tbody>\n",
       "</table>\n",
       "</div>"
      ],
      "text/plain": [
       "      category         chain  proportion\n",
       "0   RESTAURANT  No pertenece    0.514247\n",
       "1   RESTAURANT     Pertenece    0.237488\n",
       "2    FAST FOOD     Pertenece    0.062688\n",
       "3    FAST FOOD  No pertenece    0.047767\n",
       "4       BAKERY     Pertenece    0.029323\n",
       "5         CAFE     Pertenece    0.027562\n",
       "6          BAR  No pertenece    0.022277\n",
       "7         CAFE  No pertenece    0.017511\n",
       "8        PIZZA  No pertenece    0.017304\n",
       "9        PIZZA     Pertenece    0.015853\n",
       "10         BAR     Pertenece    0.007978"
      ]
     },
     "execution_count": 40,
     "metadata": {},
     "output_type": "execute_result"
    }
   ],
   "source": [
    "# obtenemos las proporciones para cada tipo de establecimiento por cada cadena\n",
    "proporcion_chain = rest_data[['object_type','chain']].value_counts(normalize=True).reset_index()\n",
    "proporcion_chain.columns=['category','chain','proportion']\n",
    "proporcion_chain"
   ]
  },
  {
   "cell_type": "code",
   "execution_count": 41,
   "metadata": {},
   "outputs": [
    {
     "data": {
      "text/plain": [
       "object_type  chain       \n",
       "CAFE         Pertenece       61.1%\n",
       "             No pertenece    38.9%\n",
       "dtype: object"
      ]
     },
     "execution_count": 41,
     "metadata": {},
     "output_type": "execute_result"
    }
   ],
   "source": [
    "# obtenemos las proporciones de pertenencia a una cadena para el tipo de establecimiento 'Restaurant'\n",
    "proporcion_coffee = rest_data.query(\"object_type == 'CAFE'\")[['object_type','chain']].value_counts(normalize=True)\n",
    "proporcion_coffee.map('{:.1%}'.format)"
   ]
  },
  {
   "cell_type": "code",
   "execution_count": 42,
   "metadata": {},
   "outputs": [
    {
     "data": {
      "text/plain": [
       "object_type  chain       \n",
       "RESTAURANT   No pertenece    68.4%\n",
       "             Pertenece       31.6%\n",
       "dtype: object"
      ]
     },
     "execution_count": 42,
     "metadata": {},
     "output_type": "execute_result"
    }
   ],
   "source": [
    "# obtenemos las proporciones de pertenencia a una cadena para el tipo de establecimiento 'Restaurant'\n",
    "proporcion_rest = rest_data.query(\"object_type == 'RESTAURANT'\")[['object_type','chain']].value_counts(normalize=True)\n",
    "proporcion_rest.map('{:.1%}'.format)"
   ]
  },
  {
   "cell_type": "code",
   "execution_count": 43,
   "metadata": {},
   "outputs": [
    {
     "data": {
      "image/png": "[encoded data removed]",
      "text/plain": [
       "<Figure size 864x432 with 1 Axes>"
      ]
     },
     "metadata": {
      "needs_background": "light"
     },
     "output_type": "display_data"
    }
   ],
   "source": [
    "# Trazamos un gráfico de las proporciones de los tipos de establecimiento y su pertenencia a una cadena\n",
    "f,ax = plt.subplots(figsize=(12,6))\n",
    "\n",
    "#ordenamiento\n",
    "order_1 = proporcion_chain[['category','proportion']].groupby('category').max().reset_index()\n",
    "\n",
    "ax = sns.barplot(data = proporcion_chain, x= 'category', y= 'proportion', hue= 'chain',\\\n",
    "            order = order_1.sort_values('proportion', ascending= False).category)\n",
    "\n",
    "\n",
    "for rect in ax.patches:\n",
    "  \n",
    "    y_value = rect.get_height()\n",
    "    x_value = rect.get_x() + rect.get_width() / 2\n",
    "\n",
    "\n",
    "    space = 3\n",
    "\n",
    "    label = \"{:.2%}\".format(y_value)\n",
    "\n",
    "\n",
    "    ax.annotate(\n",
    "        label,                      \n",
    "        (x_value, y_value),         \n",
    "        xytext=(0, space),          \n",
    "        textcoords=\"offset points\", \n",
    "        ha='center',                \n",
    "        va='bottom')     \n",
    "plt.ylim(0, proporcion_chain['proportion'].max()*1.1)\n",
    "plt.title('Pertenencia a una cadena')\n",
    "plt.ylabel('Proporción')\n",
    "plt.xlabel('Establecimiento')\n",
    "plt.xticks(rotation=45,ha='right')\n",
    "plt.legend(loc='best')\n",
    "plt.show()"
   ]
  },
  {
   "cell_type": "markdown",
   "metadata": {},
   "source": [
    "- Aproximadamente el 70% de los restaurantes no pertenecen a una cadena comercial.\n",
    "- Casi el 40% de los establecimientos de café no pertenecen a una cadena comercial.\n",
    "- Casi el 60% de los fast food pertenecen a una cadena.\n",
    "- Fuente: datos abiertos sobre restaurantes en los L.A."
   ]
  },
  {
   "cell_type": "markdown",
   "metadata": {},
   "source": [
    "### Tipos de establecimientos que es habitualmente una cadena. <a id='tdeqehuc'></a>"
   ]
  },
  {
   "cell_type": "code",
   "execution_count": 44,
   "metadata": {},
   "outputs": [
    {
     "data": {
      "text/plain": [
       "count    3676.000000\n",
       "mean       39.694233\n",
       "std        43.437212\n",
       "min         1.000000\n",
       "25%        13.000000\n",
       "50%        25.000000\n",
       "75%        44.000000\n",
       "max       229.000000\n",
       "Name: number, dtype: float64"
      ]
     },
     "execution_count": 44,
     "metadata": {},
     "output_type": "execute_result"
    }
   ],
   "source": [
    "# veamos como se distribuye el número de asientos para los establecimientos que pertenecen a una cadena\n",
    "rest_data.query(\"chain == 'Pertenece'\")['number'].describe()"
   ]
  },
  {
   "cell_type": "code",
   "execution_count": 45,
   "metadata": {},
   "outputs": [
    {
     "data": {
      "image/png": "[encoded data removed]",
      "text/plain": [
       "<Figure size 720x360 with 1 Axes>"
      ]
     },
     "metadata": {
      "needs_background": "light"
     },
     "output_type": "display_data"
    }
   ],
   "source": [
    "# tracemos un histograma para ver su distribución\n",
    "f,ax = plt.subplots(figsize=(10,5))\n",
    "ax = sns.histplot(rest_data.query(\"chain == 'Pertenece'\")['number'], bins=50)\n",
    "plt.title('Distribución de la cantidad de asientos para las cadenas comerciales')\n",
    "plt.xlabel('Asientos')\n",
    "plt.ylabel('Cantidad de establecimientos')\n",
    "plt.show()"
   ]
  },
  {
   "cell_type": "code",
   "execution_count": 46,
   "metadata": {},
   "outputs": [
    {
     "data": {
      "image/png": "[encoded data removed]",
      "text/plain": [
       "<Figure size 432x288 with 1 Axes>"
      ]
     },
     "metadata": {
      "needs_background": "light"
     },
     "output_type": "display_data"
    }
   ],
   "source": [
    "scatter = rest_data[rest_data['chain'] == \"Pertenece\"].groupby('object_name').agg({'number':'mean', 'object_name':'count'})\n",
    "plt.scatter(scatter['number'], scatter['object_name']) \n",
    "plt.show()"
   ]
  },
  {
   "cell_type": "markdown",
   "metadata": {},
   "source": [
    "- Con el grafico podemos notar que hay muchos establecimientos con hasta 50 asientos"
   ]
  },
  {
   "cell_type": "markdown",
   "metadata": {},
   "source": [
    "### Promedio de asientos para cada tipo de establecimiento. <a id='pdapctde'></a>"
   ]
  },
  {
   "cell_type": "code",
   "execution_count": 47,
   "metadata": {},
   "outputs": [
    {
     "data": {
      "text/html": [
       "<div>\n",
       "<style scoped>\n",
       "    .dataframe tbody tr th:only-of-type {\n",
       "        vertical-align: middle;\n",
       "    }\n",
       "\n",
       "    .dataframe tbody tr th {\n",
       "        vertical-align: top;\n",
       "    }\n",
       "\n",
       "    .dataframe thead th {\n",
       "        text-align: right;\n",
       "    }\n",
       "</style>\n",
       "<table border=\"1\" class=\"dataframe\">\n",
       "  <thead>\n",
       "    <tr style=\"text-align: right;\">\n",
       "      <th></th>\n",
       "      <th>object_type</th>\n",
       "      <th>chain</th>\n",
       "      <th>number</th>\n",
       "    </tr>\n",
       "  </thead>\n",
       "  <tbody>\n",
       "    <tr>\n",
       "      <th>0</th>\n",
       "      <td>BAKERY</td>\n",
       "      <td>Pertenece</td>\n",
       "      <td>21.773852</td>\n",
       "    </tr>\n",
       "    <tr>\n",
       "      <th>1</th>\n",
       "      <td>BAR</td>\n",
       "      <td>No pertenece</td>\n",
       "      <td>46.381395</td>\n",
       "    </tr>\n",
       "    <tr>\n",
       "      <th>2</th>\n",
       "      <td>BAR</td>\n",
       "      <td>Pertenece</td>\n",
       "      <td>40.259740</td>\n",
       "    </tr>\n",
       "    <tr>\n",
       "      <th>3</th>\n",
       "      <td>CAFE</td>\n",
       "      <td>No pertenece</td>\n",
       "      <td>23.556213</td>\n",
       "    </tr>\n",
       "    <tr>\n",
       "      <th>4</th>\n",
       "      <td>CAFE</td>\n",
       "      <td>Pertenece</td>\n",
       "      <td>25.917293</td>\n",
       "    </tr>\n",
       "    <tr>\n",
       "      <th>5</th>\n",
       "      <td>FAST FOOD</td>\n",
       "      <td>No pertenece</td>\n",
       "      <td>23.633406</td>\n",
       "    </tr>\n",
       "    <tr>\n",
       "      <th>6</th>\n",
       "      <td>FAST FOOD</td>\n",
       "      <td>Pertenece</td>\n",
       "      <td>38.089256</td>\n",
       "    </tr>\n",
       "    <tr>\n",
       "      <th>7</th>\n",
       "      <td>PIZZA</td>\n",
       "      <td>No pertenece</td>\n",
       "      <td>31.143713</td>\n",
       "    </tr>\n",
       "    <tr>\n",
       "      <th>8</th>\n",
       "      <td>PIZZA</td>\n",
       "      <td>Pertenece</td>\n",
       "      <td>25.529412</td>\n",
       "    </tr>\n",
       "    <tr>\n",
       "      <th>9</th>\n",
       "      <td>RESTAURANT</td>\n",
       "      <td>No pertenece</td>\n",
       "      <td>49.513802</td>\n",
       "    </tr>\n",
       "    <tr>\n",
       "      <th>10</th>\n",
       "      <td>RESTAURANT</td>\n",
       "      <td>Pertenece</td>\n",
       "      <td>44.856021</td>\n",
       "    </tr>\n",
       "  </tbody>\n",
       "</table>\n",
       "</div>"
      ],
      "text/plain": [
       "   object_type         chain     number\n",
       "0       BAKERY     Pertenece  21.773852\n",
       "1          BAR  No pertenece  46.381395\n",
       "2          BAR     Pertenece  40.259740\n",
       "3         CAFE  No pertenece  23.556213\n",
       "4         CAFE     Pertenece  25.917293\n",
       "5    FAST FOOD  No pertenece  23.633406\n",
       "6    FAST FOOD     Pertenece  38.089256\n",
       "7        PIZZA  No pertenece  31.143713\n",
       "8        PIZZA     Pertenece  25.529412\n",
       "9   RESTAURANT  No pertenece  49.513802\n",
       "10  RESTAURANT     Pertenece  44.856021"
      ]
     },
     "execution_count": 47,
     "metadata": {},
     "output_type": "execute_result"
    }
   ],
   "source": [
    "# calculamos el promedio de asientos para cada tipo de establecimiento\n",
    "mean_number = rest_data.pivot_table(index=['object_type', 'chain'], values= 'number', aggfunc= 'mean').reset_index()\n",
    "mean_number"
   ]
  },
  {
   "cell_type": "code",
   "execution_count": 48,
   "metadata": {},
   "outputs": [
    {
     "data": {
      "image/png": "[encoded data removed]",
      "text/plain": [
       "<Figure size 864x432 with 1 Axes>"
      ]
     },
     "metadata": {
      "needs_background": "light"
     },
     "output_type": "display_data"
    }
   ],
   "source": [
    "# Trazamos un gráfico del promedio de asientos para cada tipo de establecimiento\n",
    "f,ax = plt.subplots(figsize=(12,6))\n",
    "\n",
    "#ordenamiento\n",
    "order_2 = mean_number[['object_type','number']].groupby('object_type').max().reset_index()\n",
    "ax = sns.barplot(data = mean_number, x= 'object_type', y= 'number', hue= 'chain',\\\n",
    "              order = order_2.sort_values('number', ascending= False).object_type)\n",
    "mean_coffee = mean_number[mean_number['object_type']=='CAFE']['number'].mean().round(0)\n",
    "for rect in ax.patches:\n",
    "    \n",
    "    y_value = rect.get_height()\n",
    "    x_value = rect.get_x() + rect.get_width() / 2\n",
    "    space = 3\n",
    "    label = \"{:.0f}\".format(y_value)\n",
    "    ax.annotate(\n",
    "        label,                      \n",
    "        (x_value, y_value),        \n",
    "        xytext=(0, space),          \n",
    "        textcoords=\"offset points\", \n",
    "        ha='center',                \n",
    "        va='bottom')     \n",
    "plt.ylim(0, mean_number['number'].max()*1.8)\n",
    "plt.title('Promedio de asientos para cada establecimiento')\n",
    "plt.ylabel('Promedio de asientos')\n",
    "plt.xlabel('Establecimiento')\n",
    "plt.xticks(rotation=45,ha='right')\n",
    "plt.legend(loc='best')\n",
    "plt.show()\n"
   ]
  },
  {
   "cell_type": "markdown",
   "metadata": {},
   "source": [
    "- El promedio de asientos para cada establecimiento es muy parecido, tanto si pertenecen a una cadena o no\n",
    "- En promedio, un restaurant tiene la mayor cantidad de asientos, seguido de los bares.\n",
    "- El promedio de asientos para un Cafe es de 25.0\n"
   ]
  },
  {
   "cell_type": "markdown",
   "metadata": {},
   "source": [
    "### Diez mejores calles por número de establecimientos. <a id='dmcpnde'></a>"
   ]
  },
  {
   "cell_type": "code",
   "execution_count": 49,
   "metadata": {},
   "outputs": [
    {
     "data": {
      "text/html": [
       "<div>\n",
       "<style scoped>\n",
       "    .dataframe tbody tr th:only-of-type {\n",
       "        vertical-align: middle;\n",
       "    }\n",
       "\n",
       "    .dataframe tbody tr th {\n",
       "        vertical-align: top;\n",
       "    }\n",
       "\n",
       "    .dataframe thead th {\n",
       "        text-align: right;\n",
       "    }\n",
       "</style>\n",
       "<table border=\"1\" class=\"dataframe\">\n",
       "  <thead>\n",
       "    <tr style=\"text-align: right;\">\n",
       "      <th></th>\n",
       "      <th>count_type</th>\n",
       "    </tr>\n",
       "    <tr>\n",
       "      <th>street</th>\n",
       "      <th></th>\n",
       "    </tr>\n",
       "  </thead>\n",
       "  <tbody>\n",
       "    <tr>\n",
       "      <th>SUNSET</th>\n",
       "      <td>405</td>\n",
       "    </tr>\n",
       "    <tr>\n",
       "      <th>WILSHIRE</th>\n",
       "      <td>365</td>\n",
       "    </tr>\n",
       "    <tr>\n",
       "      <th>PICO</th>\n",
       "      <td>359</td>\n",
       "    </tr>\n",
       "    <tr>\n",
       "      <th>WESTERN</th>\n",
       "      <td>347</td>\n",
       "    </tr>\n",
       "    <tr>\n",
       "      <th>FIGUEROA</th>\n",
       "      <td>313</td>\n",
       "    </tr>\n",
       "    <tr>\n",
       "      <th>OLYMPIC</th>\n",
       "      <td>289</td>\n",
       "    </tr>\n",
       "    <tr>\n",
       "      <th>VERMONT</th>\n",
       "      <td>279</td>\n",
       "    </tr>\n",
       "    <tr>\n",
       "      <th>SANTA MONICA</th>\n",
       "      <td>251</td>\n",
       "    </tr>\n",
       "    <tr>\n",
       "      <th>HOLLYWOOD</th>\n",
       "      <td>246</td>\n",
       "    </tr>\n",
       "    <tr>\n",
       "      <th>3RD</th>\n",
       "      <td>246</td>\n",
       "    </tr>\n",
       "  </tbody>\n",
       "</table>\n",
       "</div>"
      ],
      "text/plain": [
       "              count_type\n",
       "street                  \n",
       "SUNSET               405\n",
       "WILSHIRE             365\n",
       "PICO                 359\n",
       "WESTERN              347\n",
       "FIGUEROA             313\n",
       "OLYMPIC              289\n",
       "VERMONT              279\n",
       "SANTA MONICA         251\n",
       "HOLLYWOOD            246\n",
       "3RD                  246"
      ]
     },
     "execution_count": 49,
     "metadata": {},
     "output_type": "execute_result"
    }
   ],
   "source": [
    "# agrupamos por nombre de la calle y extraemos las 10 calles con mayor numero de establecimientos\n",
    "best_street = rest_data.groupby('street').agg(count_type= ('object_type','count'))\\\n",
    "                                .sort_values(by= ['count_type', 'street'], ascending=False)[0:10]\n",
    "best_street"
   ]
  },
  {
   "cell_type": "code",
   "execution_count": 50,
   "metadata": {},
   "outputs": [
    {
     "data": {
      "image/png": "[encoded data removed]",
      "text/plain": [
       "<Figure size 864x432 with 1 Axes>"
      ]
     },
     "metadata": {
      "needs_background": "light"
     },
     "output_type": "display_data"
    }
   ],
   "source": [
    "# Trazamos un gráfico para las diez calles con mayor numero de establecimiento\n",
    "f,ax= plt.subplots(figsize= (12,6))\n",
    "ax= sns.barplot(data= best_street, x= best_street.index, y= 'count_type')\n",
    "\n",
    "for rect in ax.patches:\n",
    "    \n",
    "    y_value = rect.get_height()\n",
    "    x_value = rect.get_x() + rect.get_width() / 2\n",
    "\n",
    "    space = 3\n",
    "    label = \"{:.0f}\".format(y_value)\n",
    "\n",
    "    ax.annotate(\n",
    "        label,                      \n",
    "        (x_value, y_value),        \n",
    "        xytext= (0, space),          \n",
    "        textcoords= \"offset points\", \n",
    "        ha= 'center',                \n",
    "        va= 'bottom')     \n",
    "plt.ylim(0, best_street['count_type'].max()*1.4)\n",
    "plt.title('Diez calles con mayor cantidad de establecimientos')\n",
    "plt.ylabel('Cantidad de establecimientos')\n",
    "plt.xlabel('Calles')\n",
    "plt.xticks(rotation= 45, ha= 'right')\n",
    "plt.show()"
   ]
  },
  {
   "cell_type": "markdown",
   "metadata": {},
   "source": [
    "Según lo realizado podemos observar que:\n",
    "- **SUNSET, WILSHIRE y PICO** son las calles con mayor cantidad de establecimientos.\n",
    "- **3RD** es la calle con la menor cantidad de establecimientos."
   ]
  },
  {
   "cell_type": "markdown",
   "metadata": {},
   "source": [
    "### Calles que tienen un solo establecimiento. <a id='eqtuse'></a>"
   ]
  },
  {
   "cell_type": "code",
   "execution_count": 51,
   "metadata": {},
   "outputs": [
    {
     "data": {
      "text/html": [
       "<div>\n",
       "<style scoped>\n",
       "    .dataframe tbody tr th:only-of-type {\n",
       "        vertical-align: middle;\n",
       "    }\n",
       "\n",
       "    .dataframe tbody tr th {\n",
       "        vertical-align: top;\n",
       "    }\n",
       "\n",
       "    .dataframe thead th {\n",
       "        text-align: right;\n",
       "    }\n",
       "</style>\n",
       "<table border=\"1\" class=\"dataframe\">\n",
       "  <thead>\n",
       "    <tr style=\"text-align: right;\">\n",
       "      <th></th>\n",
       "      <th>count_type</th>\n",
       "    </tr>\n",
       "    <tr>\n",
       "      <th>street</th>\n",
       "      <th></th>\n",
       "    </tr>\n",
       "  </thead>\n",
       "  <tbody>\n",
       "    <tr>\n",
       "      <th>LA CIENGA</th>\n",
       "      <td>2</td>\n",
       "    </tr>\n",
       "  </tbody>\n",
       "</table>\n",
       "</div>"
      ],
      "text/plain": [
       "           count_type\n",
       "street               \n",
       "LA CIENGA           2"
      ]
     },
     "execution_count": 51,
     "metadata": {},
     "output_type": "execute_result"
    }
   ],
   "source": [
    "# agrupamos por calle y contamos la cantidad de establecimientos\n",
    "alone_street = rest_data.groupby('street').agg(count_type = ('object_type','count'))\n",
    "alone_street.sample()"
   ]
  },
  {
   "cell_type": "code",
   "execution_count": 52,
   "metadata": {},
   "outputs": [
    {
     "data": {
      "text/plain": [
       "(504, 1)"
      ]
     },
     "execution_count": 52,
     "metadata": {},
     "output_type": "execute_result"
    }
   ],
   "source": [
    "# contamos las calles con un solo establecimiento\n",
    "alone_street[alone_street['count_type'] == 1].shape"
   ]
  },
  {
   "cell_type": "markdown",
   "metadata": {},
   "source": [
    "### Distribución del número de asientos para las calles con muchos establecimientos. <a id='ddndaplccme'></a>"
   ]
  },
  {
   "cell_type": "code",
   "execution_count": 53,
   "metadata": {},
   "outputs": [
    {
     "data": {
      "image/png": "[encoded data removed]",
      "text/plain": [
       "<Figure size 576x432 with 1 Axes>"
      ]
     },
     "metadata": {
      "needs_background": "light"
     },
     "output_type": "display_data"
    }
   ],
   "source": [
    "# creamos un histograma para observar la distribución del número de establecimientos por calle\n",
    "plt.subplots(figsize= (8,6))\n",
    "ax= sns.histplot(data= alone_street, bins=30)\n",
    "\n",
    "plt.xlabel('Cantidad de establecimientos')\n",
    "plt.ylabel('Cantidad de calles')\n",
    "plt.title('Distribución de la cantidad de establecimientos por calle')\n",
    "plt.show()"
   ]
  },
  {
   "cell_type": "markdown",
   "metadata": {},
   "source": [
    "- Podemos observar que hay muchas calles con pocos establecimientos y pocas calles con muchos establecimientos.\n",
    "\n"
   ]
  },
  {
   "cell_type": "code",
   "execution_count": 54,
   "metadata": {},
   "outputs": [
    {
     "data": {
      "text/plain": [
       "array([  3.,  22.,  57., 246., 405.])"
      ]
     },
     "execution_count": 54,
     "metadata": {},
     "output_type": "execute_result"
    }
   ],
   "source": [
    "# obtenemos los percentiles para la cantidad de establecimientos por calle\n",
    "np.percentile(alone_street, [75,90,95,99,100]).round(0)"
   ]
  },
  {
   "cell_type": "markdown",
   "metadata": {},
   "source": [
    "- Podemos observar que el 75% de las calles tienen máximo tres establecimientos.\n",
    "- El 90% tienen máximo veintidos establecimientos y el 95% tiene máximo cincuenta y siete establecimientos.\n",
    "- Si una calle tiene más de 20 establecimientos estas calles sean consideradas con muchos establecimientos."
   ]
  },
  {
   "cell_type": "code",
   "execution_count": 55,
   "metadata": {},
   "outputs": [
    {
     "data": {
      "text/plain": [
       "Index(['1ST', '2ND', '3RD', '4TH', '5TH', '6TH', '7TH', '8TH', '9TH', 'ADAMS',\n",
       "       'ALAMEDA', 'ALVARADO', 'ATLANTIC', 'AVALON', 'BARRINGTON', 'BEVERLY',\n",
       "       'BROADWAY', 'BROXTON', 'CAHUENGA', 'CENTINELA', 'CENTRAL', 'CENTURY',\n",
       "       'CESAR  CHAVEZ', 'COLORADO', 'COMPTON', 'CRENSHAW', 'EAGLE ROCK',\n",
       "       'EASTERN', 'ETH', 'FAIRFAX', 'FIGUEROA', 'FLORENCE', 'FLOWER',\n",
       "       'FRANKLIN', 'GAYLEY', 'GLENDALE', 'GRAND', 'HIGHLAND', 'HILL',\n",
       "       'HILLHURST', 'HOLLYWOOD', 'HOOVER', 'HOPE', 'HUNTINGTON', 'HYPERION',\n",
       "       'JEFFERSON', 'LA BREA', 'LA CIENEGA', 'LARCHMONT', 'LINCOLN',\n",
       "       'LOS ANGELES', 'LOS FELIZ', 'MAIN', 'MANCHESTER', 'MAPLE',\n",
       "       'MARTIN LUTHER KING JR', 'MELROSE', 'MLK', 'NATIONAL', 'NORMANDIE',\n",
       "       'OLYMPIC', 'PICO', 'ROBERTSON', 'SAN FERNANDO', 'SAN PEDRO',\n",
       "       'SAN VICENTE', 'SANTA MONICA', 'SAWTELLE', 'SEPULVEDA', 'SLAUSON',\n",
       "       'SOTO', 'SPRING', 'SUNSET', 'TEMPLE', 'VENICE', 'VERMONT', 'VERNON',\n",
       "       'VINE', 'VIRGIL', 'WASHINGTON', 'WESTERN', 'WESTWOOD', 'WHITTIER',\n",
       "       'WILSHIRE', 'WORLD WAY', 'WTH', 'YORK'],\n",
       "      dtype='object', name='street')"
      ]
     },
     "execution_count": 55,
     "metadata": {},
     "output_type": "execute_result"
    }
   ],
   "source": [
    "# obtengamos la lista de calles que tienen más de 22 establecimientos\n",
    "list_street_20 = alone_street.query('count_type > 20').index\n",
    "list_street_20"
   ]
  },
  {
   "cell_type": "code",
   "execution_count": 56,
   "metadata": {},
   "outputs": [
    {
     "data": {
      "text/html": [
       "<div>\n",
       "<style scoped>\n",
       "    .dataframe tbody tr th:only-of-type {\n",
       "        vertical-align: middle;\n",
       "    }\n",
       "\n",
       "    .dataframe tbody tr th {\n",
       "        vertical-align: top;\n",
       "    }\n",
       "\n",
       "    .dataframe thead th {\n",
       "        text-align: right;\n",
       "    }\n",
       "</style>\n",
       "<table border=\"1\" class=\"dataframe\">\n",
       "  <thead>\n",
       "    <tr style=\"text-align: right;\">\n",
       "      <th></th>\n",
       "      <th>id</th>\n",
       "      <th>object_name</th>\n",
       "      <th>address</th>\n",
       "      <th>chain</th>\n",
       "      <th>object_type</th>\n",
       "      <th>number</th>\n",
       "      <th>restaurant</th>\n",
       "      <th>street</th>\n",
       "    </tr>\n",
       "  </thead>\n",
       "  <tbody>\n",
       "    <tr>\n",
       "      <th>0</th>\n",
       "      <td>11786</td>\n",
       "      <td>HABITAT COFFEE SHOP</td>\n",
       "      <td>3708 N EAGLE ROCK BLVD</td>\n",
       "      <td>No pertenece</td>\n",
       "      <td>CAFE</td>\n",
       "      <td>26</td>\n",
       "      <td>HABITAT COFFEE SHOP</td>\n",
       "      <td>EAGLE ROCK</td>\n",
       "    </tr>\n",
       "    <tr>\n",
       "      <th>1</th>\n",
       "      <td>11787</td>\n",
       "      <td>REILLY'S</td>\n",
       "      <td>100 WORLD WAY # 120</td>\n",
       "      <td>No pertenece</td>\n",
       "      <td>RESTAURANT</td>\n",
       "      <td>9</td>\n",
       "      <td>REILLY'S</td>\n",
       "      <td>WORLD WAY</td>\n",
       "    </tr>\n",
       "    <tr>\n",
       "      <th>2</th>\n",
       "      <td>11788</td>\n",
       "      <td>STREET CHURROS</td>\n",
       "      <td>6801 HOLLYWOOD BLVD # 253</td>\n",
       "      <td>No pertenece</td>\n",
       "      <td>FAST FOOD</td>\n",
       "      <td>20</td>\n",
       "      <td>STREET CHURROS</td>\n",
       "      <td>HOLLYWOOD</td>\n",
       "    </tr>\n",
       "    <tr>\n",
       "      <th>3</th>\n",
       "      <td>11789</td>\n",
       "      <td>TRINITI ECHO PARK</td>\n",
       "      <td>1814 W SUNSET BLVD</td>\n",
       "      <td>No pertenece</td>\n",
       "      <td>RESTAURANT</td>\n",
       "      <td>22</td>\n",
       "      <td>TRINITI ECHO PARK</td>\n",
       "      <td>SUNSET</td>\n",
       "    </tr>\n",
       "    <tr>\n",
       "      <th>5</th>\n",
       "      <td>11791</td>\n",
       "      <td>THE SPOT GRILL</td>\n",
       "      <td>10004 NATIONAL BLVD</td>\n",
       "      <td>No pertenece</td>\n",
       "      <td>RESTAURANT</td>\n",
       "      <td>14</td>\n",
       "      <td>THE SPOT GRILL</td>\n",
       "      <td>NATIONAL</td>\n",
       "    </tr>\n",
       "  </tbody>\n",
       "</table>\n",
       "</div>"
      ],
      "text/plain": [
       "      id          object_name                    address         chain  \\\n",
       "0  11786  HABITAT COFFEE SHOP     3708 N EAGLE ROCK BLVD  No pertenece   \n",
       "1  11787             REILLY'S        100 WORLD WAY # 120  No pertenece   \n",
       "2  11788       STREET CHURROS  6801 HOLLYWOOD BLVD # 253  No pertenece   \n",
       "3  11789    TRINITI ECHO PARK         1814 W SUNSET BLVD  No pertenece   \n",
       "5  11791       THE SPOT GRILL        10004 NATIONAL BLVD  No pertenece   \n",
       "\n",
       "  object_type  number           restaurant      street  \n",
       "0        CAFE      26  HABITAT COFFEE SHOP  EAGLE ROCK  \n",
       "1  RESTAURANT       9             REILLY'S   WORLD WAY  \n",
       "2   FAST FOOD      20       STREET CHURROS   HOLLYWOOD  \n",
       "3  RESTAURANT      22    TRINITI ECHO PARK      SUNSET  \n",
       "5  RESTAURANT      14       THE SPOT GRILL    NATIONAL  "
      ]
     },
     "execution_count": 56,
     "metadata": {},
     "output_type": "execute_result"
    }
   ],
   "source": [
    "# usaremos la lista de calles y vamos a filtrar la data para obtener los datos de los establecimientos\n",
    "street_data = rest_data[rest_data['street'].isin(list_street_20)]\n",
    "street_data.head(5)"
   ]
  },
  {
   "cell_type": "code",
   "execution_count": 57,
   "metadata": {},
   "outputs": [
    {
     "data": {
      "image/png": "[encoded data removed]",
      "text/plain": [
       "<Figure size 720x432 with 1 Axes>"
      ]
     },
     "metadata": {
      "needs_background": "light"
     },
     "output_type": "display_data"
    }
   ],
   "source": [
    "# creamos el gráfico de distribución de asientos para las calles con mas de 19 establecimientos\n",
    "plt.subplots(figsize= (10,6))\n",
    "ax= sns.histplot(street_data['number'], bins=50)\n",
    "ylimit=ax.get_ylim()[1]*1.2\n",
    "plt.ylim(0,ylimit)\n",
    "plt.xlabel('Cantidad de asientos')\n",
    "plt.ylabel('Cantidad de establecimientos')\n",
    "plt.title('Distribución de asientos para las calles con mas de 20 establecimientos')\n",
    "plt.show()\n"
   ]
  },
  {
   "cell_type": "code",
   "execution_count": 58,
   "metadata": {},
   "outputs": [
    {
     "name": "stdout",
     "output_type": "stream",
     "text": [
      "Minimo de asientos: 1\n",
      "Media de asientos: 43\n",
      "Maximo de asientos: 229\n",
      "La cantidad de asientos por establecimiento va desde el: 1 hasta el 229 con un promedio de 43\n"
     ]
    }
   ],
   "source": [
    "min_number = street_data['number'].min()\n",
    "mean_number = street_data['number'].mean().astype(int)\n",
    "max_number = street_data['number'].max()\n",
    "print(f'Minimo de asientos: {min_number}')\n",
    "print(f'Media de asientos: {mean_number}')\n",
    "print(f'Maximo de asientos: {max_number}')\n",
    "print(f'La cantidad de asientos por establecimiento va desde el: {min_number} hasta el {max_number} con un promedio de {mean_number}')"
   ]
  },
  {
   "cell_type": "code",
   "execution_count": 59,
   "metadata": {},
   "outputs": [
    {
     "data": {
      "text/plain": [
       "array([ 27.,  46., 118., 145., 213., 229.])"
      ]
     },
     "execution_count": 59,
     "metadata": {},
     "output_type": "execute_result"
    }
   ],
   "source": [
    "# obtenemos los percentiles para la cantidad de asientos por establecimiento para calles con más de 20 establecimientos\n",
    "np.percentile(street_data['number'],[50,75,90,95,99,100]).round(0)"
   ]
  },
  {
   "cell_type": "code",
   "execution_count": 60,
   "metadata": {},
   "outputs": [
    {
     "data": {
      "text/plain": [
       "array([ 20.,  33.,  44.,  48., 111., 143.])"
      ]
     },
     "execution_count": 60,
     "metadata": {},
     "output_type": "execute_result"
    }
   ],
   "source": [
    "# obtenemos los percentiles para la cantidad de asientos para establecimientos que venden 'Cafe'\n",
    "np.percentile(street_data.query('object_type == \"CAFE\"')['number'],[50,75,90,95,99,100]).round(0)"
   ]
  },
  {
   "cell_type": "code",
   "execution_count": 61,
   "metadata": {},
   "outputs": [
    {
     "data": {
      "text/plain": [
       "24.0"
      ]
     },
     "execution_count": 61,
     "metadata": {},
     "output_type": "execute_result"
    }
   ],
   "source": [
    "# promedio de asientos para los establecimientos de 'Cafe', en calles con más de 20 establecimientos\n",
    "street_data.query('object_type == \"CAFE\"')['number'].mean().round(0)"
   ]
  },
  {
   "cell_type": "markdown",
   "metadata": {},
   "source": [
    "- En las calles con más de veinte establecimientos, el 50% de los establecimientos tienen hasta 27 asientos, el 75% hasta 46 y solo el 10% de los establecimientos tiene más de 117 asientos, hasta un máximo de 229.\n",
    "- En las calles con más de veinte establecimientos, el 50% de los establecimientos de Cafe tienen hasta 20 asientos, el 75% hasta 32 y solo el 10% de los establecimientos tiene más de 44 asientos, hasta un máximo de 143. Con un promedio de 24."
   ]
  },
  {
   "cell_type": "markdown",
   "metadata": {},
   "source": [
    "### Las cafeterías en las diez calles con más establecimientos. <a id='lceldccme'></a>"
   ]
  },
  {
   "cell_type": "code",
   "execution_count": 62,
   "metadata": {},
   "outputs": [
    {
     "data": {
      "text/plain": [
       "SUNSET          28\n",
       "WILSHIRE        22\n",
       "HOLLYWOOD       13\n",
       "PICO            12\n",
       "SANTA MONICA    12\n",
       "3RD             11\n",
       "OLYMPIC         10\n",
       "FIGUEROA        10\n",
       "WESTERN          8\n",
       "VERMONT          7\n",
       "Name: count_coffee, dtype: int64"
      ]
     },
     "execution_count": 62,
     "metadata": {},
     "output_type": "execute_result"
    }
   ],
   "source": [
    "# contamos la cantidad de cafeterias en las diez calles con mas establecimientos\n",
    "count_coffee = rest_data[(rest_data['street'].isin(best_street.index)) & (rest_data['object_type'] == 'CAFE')]['street'].value_counts()\n",
    "count_coffee.name = 'count_coffee'\n",
    "count_coffee"
   ]
  },
  {
   "cell_type": "code",
   "execution_count": 63,
   "metadata": {},
   "outputs": [
    {
     "data": {
      "text/html": [
       "<div>\n",
       "<style scoped>\n",
       "    .dataframe tbody tr th:only-of-type {\n",
       "        vertical-align: middle;\n",
       "    }\n",
       "\n",
       "    .dataframe tbody tr th {\n",
       "        vertical-align: top;\n",
       "    }\n",
       "\n",
       "    .dataframe thead th {\n",
       "        text-align: right;\n",
       "    }\n",
       "</style>\n",
       "<table border=\"1\" class=\"dataframe\">\n",
       "  <thead>\n",
       "    <tr style=\"text-align: right;\">\n",
       "      <th></th>\n",
       "      <th>street</th>\n",
       "      <th>count_type</th>\n",
       "      <th>count_coffee</th>\n",
       "      <th>proporcion_coffee</th>\n",
       "    </tr>\n",
       "  </thead>\n",
       "  <tbody>\n",
       "    <tr>\n",
       "      <th>0</th>\n",
       "      <td>SUNSET</td>\n",
       "      <td>405</td>\n",
       "      <td>28</td>\n",
       "      <td>6.9%</td>\n",
       "    </tr>\n",
       "    <tr>\n",
       "      <th>1</th>\n",
       "      <td>WILSHIRE</td>\n",
       "      <td>365</td>\n",
       "      <td>22</td>\n",
       "      <td>6.0%</td>\n",
       "    </tr>\n",
       "    <tr>\n",
       "      <th>2</th>\n",
       "      <td>PICO</td>\n",
       "      <td>359</td>\n",
       "      <td>12</td>\n",
       "      <td>3.3%</td>\n",
       "    </tr>\n",
       "    <tr>\n",
       "      <th>3</th>\n",
       "      <td>WESTERN</td>\n",
       "      <td>347</td>\n",
       "      <td>8</td>\n",
       "      <td>2.3%</td>\n",
       "    </tr>\n",
       "    <tr>\n",
       "      <th>4</th>\n",
       "      <td>FIGUEROA</td>\n",
       "      <td>313</td>\n",
       "      <td>10</td>\n",
       "      <td>3.2%</td>\n",
       "    </tr>\n",
       "    <tr>\n",
       "      <th>5</th>\n",
       "      <td>OLYMPIC</td>\n",
       "      <td>289</td>\n",
       "      <td>10</td>\n",
       "      <td>3.5%</td>\n",
       "    </tr>\n",
       "    <tr>\n",
       "      <th>6</th>\n",
       "      <td>VERMONT</td>\n",
       "      <td>279</td>\n",
       "      <td>7</td>\n",
       "      <td>2.5%</td>\n",
       "    </tr>\n",
       "    <tr>\n",
       "      <th>7</th>\n",
       "      <td>SANTA MONICA</td>\n",
       "      <td>251</td>\n",
       "      <td>12</td>\n",
       "      <td>4.8%</td>\n",
       "    </tr>\n",
       "    <tr>\n",
       "      <th>8</th>\n",
       "      <td>HOLLYWOOD</td>\n",
       "      <td>246</td>\n",
       "      <td>13</td>\n",
       "      <td>5.3%</td>\n",
       "    </tr>\n",
       "    <tr>\n",
       "      <th>9</th>\n",
       "      <td>3RD</td>\n",
       "      <td>246</td>\n",
       "      <td>11</td>\n",
       "      <td>4.5%</td>\n",
       "    </tr>\n",
       "  </tbody>\n",
       "</table>\n",
       "</div>"
      ],
      "text/plain": [
       "         street  count_type  count_coffee proporcion_coffee\n",
       "0        SUNSET         405            28              6.9%\n",
       "1      WILSHIRE         365            22              6.0%\n",
       "2          PICO         359            12              3.3%\n",
       "3       WESTERN         347             8              2.3%\n",
       "4      FIGUEROA         313            10              3.2%\n",
       "5       OLYMPIC         289            10              3.5%\n",
       "6       VERMONT         279             7              2.5%\n",
       "7  SANTA MONICA         251            12              4.8%\n",
       "8     HOLLYWOOD         246            13              5.3%\n",
       "9           3RD         246            11              4.5%"
      ]
     },
     "execution_count": 63,
     "metadata": {},
     "output_type": "execute_result"
    }
   ],
   "source": [
    "\n",
    "# unimos 'best_street' y 'count_coffee' para ver la proporcion de cafeterias\n",
    "proporcion_coffee = best_street.merge(count_coffee, left_on = best_street.index, right_on= count_coffee.index)\n",
    "proporcion_coffee.columns = ['street', 'count_type', 'count_coffee']\n",
    "\n",
    "# obtenemos la proporcion de cafeterias respecto a la cantidad de establecimientos\n",
    "proporcion_coffee['proporcion_coffee'] = proporcion_coffee['count_coffee']/proporcion_coffee['count_type']\n",
    "\n",
    "# aplicamos formato de porcentaje\n",
    "proporcion_coffee['proporcion_coffee'] = proporcion_coffee['proporcion_coffee'].map('{:.1%}'.format)\n",
    "proporcion_coffee"
   ]
  },
  {
   "cell_type": "markdown",
   "metadata": {},
   "source": [
    "En la tabla anterior, podemos observar que la proporción de cafeterías existentes en las principales calles con más establecimientos es muy baja. Así que eso no puedes dar la oportunidad para poder establecer una cafetería en las calles con menor proporción de cafeterías y que son muy transitadas."
   ]
  },
  {
   "cell_type": "markdown",
   "metadata": {},
   "source": [
    "## Conclusión. <a id='ccs'></a>\n",
    "- Hay una gran cantidad de restaurantes establecidos en los L.A., un 75%. Seguidos de establecimientos de comida rápida con un 11% y cafeterías con un 4.5%.\n",
    "- Aproximadamente el 70% de los restaurantes no pertenecen a una cadena comercial.\n",
    "- El 40% de los establecimientos de café no pertenecen a una cadena comercial.\n",
    "- En una cadena comercial, hay muchos establecimientos con hasta 50 asientos, mientras que pocos establecimientos tienen más de 50 asientos.\n",
    "- El promedio de asientos para cada establecimiento es muy parecido, tanto si pertenecen a una cadena o no.\n",
    "- En promedio, un restaurant tiene la mayor cantidad de asientos con 47, seguido de los bares con 43 y, para una cafetería 25.\n",
    "- Las cinco calles con mayor cantidad de establecimientos en los Angeles California, son: \"SUNSET\", \"WILSHIRE\", \"PICO\", \"WESTERN\" y \"FIGUEROA\".\n",
    "- Hay 504 calles en Los Angeles, California, con un solo establecimiento.\n",
    "- En las calles con más de 20 establecimientos, el 50% de los establecimientos tienen hasta 27 asientos, el 75% hasta 46 y solo el 10% de los establecimientos tiene más de 118 asientos, hasta un máximo de 229.\n",
    "- En las calles con más de 20 establecimientos, el 50% de los establecimientos de Cafe tienen hasta 20 asientos, el 75% hasta 32 y solo el 10% de los establecimientos tiene más de 44 asientos, hasta un máximo de 143. Con un promedio de 24.\n",
    "- La proporción de cafeterías existentes en las principales calles con más establecimientos es muy baja."
   ]
  },
  {
   "cell_type": "markdown",
   "metadata": {},
   "source": [
    "## Link de presentación. <a id='link'></a>"
   ]
  },
  {
   "cell_type": "markdown",
   "metadata": {},
   "source": [
    "[link](https://drive.google.com/file/d/1T_1sH-_5rC7Olfxn7f9XG6e67OQqjCyJ/view?usp=drivesdk)"
   ]
  }
 ],
 "metadata": {
  "kernelspec": {
   "display_name": "Python 3 (ipykernel)",
   "language": "python",
   "name": "python3"
  },
  "language_info": {
   "codemirror_mode": {
    "name": "ipython",
    "version": 3
   },
   "file_extension": ".py",
   "mimetype": "text/x-python",
   "name": "python",
   "nbconvert_exporter": "python",
   "pygments_lexer": "ipython3",
   "version": "3.9.5"
  },
  "toc": {
   "base_numbering": 1,
   "nav_menu": {},
   "number_sections": true,
   "sideBar": true,
   "skip_h1_title": true,
   "title_cell": "Table of Contents",
   "title_sidebar": "Contents",
   "toc_cell": false,
   "toc_position": {},
   "toc_section_display": true,
   "toc_window_display": false
  }
 },
 "nbformat": 4,
 "nbformat_minor": 2
}
